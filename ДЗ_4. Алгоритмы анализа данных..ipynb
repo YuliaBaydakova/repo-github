{
 "cells": [
  {
   "cell_type": "markdown",
   "id": "791c43d2",
   "metadata": {},
   "source": [
    "# Задача 1"
   ]
  },
  {
   "cell_type": "markdown",
   "id": "c5f25b20",
   "metadata": {},
   "source": [
    "В коде из методички реализуйте один или несколько критериев останова: минимальное количество объектов в листе (min_leaf), максимальная глубина дерева, максимальное количество листьев и т.д. Добавьте эти критерии в параметры функции build_tree и проверьте ее работоспособность с помощью визуализации дерева (функция print_tree())."
   ]
  },
  {
   "cell_type": "code",
   "execution_count": 5,
   "id": "5e56eec1",
   "metadata": {},
   "outputs": [],
   "source": [
    "import matplotlib.pyplot as plt\n",
    "import random\n",
    "\n",
    "from matplotlib.colors import ListedColormap\n",
    "from sklearn import datasets\n",
    "\n",
    "import numpy as np\n",
    "%matplotlib inline"
   ]
  },
  {
   "cell_type": "code",
   "execution_count": 6,
   "id": "4184f5ed",
   "metadata": {},
   "outputs": [
    {
     "data": {
      "text/plain": [
       "array([0, 1, 1, 1, 0, 0, 0, 0, 0, 1, 1, 1, 0, 1, 0, 0, 1, 0, 0, 1, 1, 1,\n",
       "       1, 1, 0, 1, 1, 0, 1, 1, 1, 0, 0, 0, 0, 0, 0, 1, 0, 1, 1, 0, 0, 1,\n",
       "       1, 1, 1, 0, 0, 0, 1, 0, 1, 1, 0, 0, 0, 1, 0, 0, 0, 0, 1, 0, 0, 1,\n",
       "       0, 1, 1, 1, 1, 0, 1, 1, 0, 1, 0, 0, 0, 1, 1, 1, 0, 1, 1, 0, 0, 1,\n",
       "       1, 1, 1, 1, 0, 0, 0, 0, 0, 1, 0, 1])"
      ]
     },
     "execution_count": 6,
     "metadata": {},
     "output_type": "execute_result"
    }
   ],
   "source": [
    "# сгенерируем данные\n",
    "classification_data, classification_labels = datasets.make_classification( \n",
    "                                                      n_features=2, n_informative=2, \n",
    "                                                      n_classes=2, n_redundant=0, \n",
    "                                                      n_clusters_per_class=1, \n",
    "                                                      random_state=5)\n",
    "classification_labels"
   ]
  },
  {
   "cell_type": "code",
   "execution_count": 27,
   "id": "eae1cde2",
   "metadata": {},
   "outputs": [
    {
     "data": {
      "text/plain": [
       "[]"
      ]
     },
     "execution_count": 27,
     "metadata": {},
     "output_type": "execute_result"
    },
    {
     "data": {
      "image/png": "[encoded data removed]",
      "text/plain": [
       "<Figure size 432x432 with 1 Axes>"
      ]
     },
     "metadata": {
      "needs_background": "light"
     },
     "output_type": "display_data"
    }
   ],
   "source": [
    "# визуализируем сгенерированные данные\n",
    "\n",
    "colors = ListedColormap(['red', 'blue'])\n",
    "light_colors = ListedColormap(['lightcoral', 'lightblue'])\n",
    "\n",
    "plt.figure(figsize=(6,6))\n",
    "plt.scatter(list(map(lambda x: x[0], classification_data)), list(map(lambda x: x[1], classification_data)), \n",
    "              c=classification_labels, cmap=colors);\n",
    "plt.plot()"
   ]
  },
  {
   "cell_type": "code",
   "execution_count": 114,
   "id": "209dbb56",
   "metadata": {},
   "outputs": [],
   "source": [
    "# Реализуем класс узла\n",
    "\n",
    "class Node:\n",
    "    \n",
    "    def __init__(self, index, t, true_branch, false_branch):\n",
    "        self.index = index  # индекс признака, по которому ведется сравнение с порогом в этом узле\n",
    "        self.t = t  # значение порога\n",
    "        self.true_branch = true_branch  # поддерево, удовлетворяющее условию в узле\n",
    "        self.false_branch = false_branch  # поддерево, не удовлетворяющее условию в узле"
   ]
  },
  {
   "cell_type": "code",
   "execution_count": 115,
   "id": "7120cd1f",
   "metadata": {},
   "outputs": [],
   "source": [
    "# И класс терминального узла (листа)\n",
    "\n",
    "class Leaf:\n",
    "    \n",
    "    def __init__(self, data, labels): #в лист подаются данные и критерий, по которому будет формироваться лист\n",
    "        self.data = data\n",
    "        self.labels = labels #метки классов\n",
    "        self.prediction = self.predict()\n",
    "        \n",
    "    def predict(self):\n",
    "        # подсчет количества объектов разных классов, для каждого листа формируется свой словарь \"класс: количество объектов\"\n",
    "        classes = {}  # сформируем словарь \"класс: количество объектов\"\n",
    "        for label in self.labels: \n",
    "            if label not in classes: #если класса нет, то записываем его\n",
    "                classes[label] = 0 \n",
    "            classes[label] += 1 #если есть добавлем\n",
    "        #  найдем класс, количество объектов которого будет максимальным в этом листе и вернем его    \n",
    "        prediction = max(classes, key=classes.get)\n",
    "        return prediction        "
   ]
  },
  {
   "cell_type": "code",
   "execution_count": 116,
   "id": "fea4ad33",
   "metadata": {},
   "outputs": [],
   "source": [
    "# Расчет критерия Джини\n",
    "\n",
    "def gini(labels):\n",
    "    #  подсчет количества объектов разных классов\n",
    "    classes = {}  # сформируем словарь \"класс: количество объектов\"\n",
    "    for label in labels:\n",
    "        if label not in classes:\n",
    "            classes[label] = 0\n",
    "        classes[label] += 1\n",
    "    \n",
    "    #  расчет критерия\n",
    "    impurity = 1 # коэффициент неопределенности Джини\n",
    "    for label in classes: # по ключу словаря считаем долю объектов\n",
    "        p = classes[label] / len(labels)\n",
    "        impurity -= p ** 2\n",
    "        \n",
    "    return impurity"
   ]
  },
  {
   "cell_type": "code",
   "execution_count": 117,
   "id": "f2ac55f0",
   "metadata": {},
   "outputs": [],
   "source": [
    "# Расчет качества\n",
    "\n",
    "def quality(left_labels, right_labels, current_gini):\n",
    "\n",
    "    # доля выбоки, ушедшая в левое поддерево\n",
    "    p = float(left_labels.shape[0]) / (left_labels.shape[0] + right_labels.shape[0])\n",
    "    \n",
    "    return current_gini - p * gini(left_labels) - (1 - p) * gini(right_labels)"
   ]
  },
  {
   "cell_type": "code",
   "execution_count": 118,
   "id": "db0b2692",
   "metadata": {},
   "outputs": [],
   "source": [
    "# Разбиение датасета в узле\n",
    "\n",
    "def split(data, labels, index, t):\n",
    "    \n",
    "    left = np.where(data[:, index] <= t)\n",
    "    right = np.where(data[:, index] > t)\n",
    "        \n",
    "    true_data = data[left]\n",
    "    false_data = data[right]\n",
    "    true_labels = labels[left]\n",
    "    false_labels = labels[right]\n",
    "        \n",
    "    return true_data, false_data, true_labels, false_labels"
   ]
  },
  {
   "cell_type": "code",
   "execution_count": 119,
   "id": "095bb25d",
   "metadata": {},
   "outputs": [],
   "source": [
    "# Нахождение наилучшего разбиения\n",
    "\n",
    "def find_best_split(data, labels, min_leaf): #на вход функции передаются признаки, метки и критерий останова\n",
    "    \n",
    "    #  обозначим минимальное количество объектов в узле\n",
    "    #min_leaf = 5\n",
    "\n",
    "    current_gini = gini(labels)\n",
    "\n",
    "    best_quality = 0\n",
    "    best_t = None\n",
    "    best_index = None\n",
    "    \n",
    "    n_features = data.shape[1]\n",
    "    \n",
    "    for index in range(n_features):\n",
    "        # будем проверять только уникальные значения признака, исключая повторения\n",
    "        t_values = np.unique([row[index] for row in data])\n",
    "        \n",
    "        for t in t_values:\n",
    "            true_data, false_data, true_labels, false_labels = split(data, labels, index, t)\n",
    "            #  пропускаем разбиения, в которых в узле остается менее 5 объектов\n",
    "            if len(true_data) < min_leaf or len(false_data) < min_leaf:\n",
    "                continue\n",
    "            \n",
    "            current_quality = quality(true_labels, false_labels, current_gini)\n",
    "            \n",
    "            #  выбираем порог, на котором получается максимальный прирост качества\n",
    "            if current_quality > best_quality:\n",
    "                best_quality, best_t, best_index = current_quality, t, index\n",
    "\n",
    "    return best_quality, best_t, best_index"
   ]
  },
  {
   "cell_type": "code",
   "execution_count": 120,
   "id": "d6aa4c99",
   "metadata": {},
   "outputs": [],
   "source": [
    "# Построение дерева с помощью рекурсивной функции\n",
    "\n",
    "def build_tree(data, labels, min_leaf):\n",
    "\n",
    "    quality, t, index = find_best_split(data, labels, min_leaf)\n",
    "    print(quality, t, index)\n",
    "    #  Базовый случай - прекращаем рекурсию, когда нет прироста в качества\n",
    "    if quality == 0:\n",
    "        return Leaf(data, labels)\n",
    "\n",
    "    true_data, false_data, true_labels, false_labels = split(data, labels, index, t)\n",
    "\n",
    "    # Рекурсивно строим два поддерева\n",
    "    true_branch = build_tree(true_data, true_labels, min_leaf)\n",
    "    false_branch = build_tree(false_data, false_labels, min_leaf)\n",
    "\n",
    "    # Возвращаем класс узла со всеми поддеревьями, то есть целого дерева\n",
    "    #print (quality)\n",
    "    return Node(index, t, true_branch, false_branch)"
   ]
  },
  {
   "cell_type": "code",
   "execution_count": 121,
   "id": "65f19f58",
   "metadata": {},
   "outputs": [],
   "source": [
    "def classify_object(obj, node):\n",
    "\n",
    "    #  Останавливаем рекурсию, если достигли листа\n",
    "    if isinstance(node, Leaf):\n",
    "        answer = node.prediction\n",
    "        return answer\n",
    "\n",
    "    if obj[node.index] <= node.t:\n",
    "        return classify_object(obj, node.true_branch)\n",
    "    else:\n",
    "        return classify_object(obj, node.false_branch)"
   ]
  },
  {
   "cell_type": "code",
   "execution_count": 122,
   "id": "8fbe2026",
   "metadata": {},
   "outputs": [],
   "source": [
    "def predict(data, tree):\n",
    "    \n",
    "    classes = []\n",
    "    for obj in data:\n",
    "        prediction = classify_object(obj, tree)\n",
    "        classes.append(prediction)\n",
    "    return classes"
   ]
  },
  {
   "cell_type": "code",
   "execution_count": 123,
   "id": "27c06632",
   "metadata": {},
   "outputs": [],
   "source": [
    "# Разобьем выборку на обучающую и тестовую\n",
    "\n",
    "from sklearn.model_selection import train_test_split\n",
    "\n",
    "train_data, test_data, train_labels, test_labels = train_test_split(classification_data, \n",
    "                                                                    classification_labels, \n",
    "                                                                    test_size = 0.3,\n",
    "                                                                    random_state = 1)"
   ]
  },
  {
   "cell_type": "code",
   "execution_count": 124,
   "id": "3b1d7071",
   "metadata": {},
   "outputs": [
    {
     "name": "stdout",
     "output_type": "stream",
     "text": [
      "0.375 0.16261402870113306 0\n",
      "0.07291666666666671 -1.5208896621663803 1\n",
      "0.3472222222222221 -0.9478301462477035 0\n",
      "0 None None\n",
      "0 None None\n",
      "0 None None\n",
      "0 None None\n",
      "Wall time: 15 ms\n"
     ]
    }
   ],
   "source": [
    "%%time\n",
    "# Построим дерево по обучающей выборке\n",
    "my_tree = build_tree(train_data, train_labels, 5)"
   ]
  },
  {
   "cell_type": "code",
   "execution_count": 125,
   "id": "40ac5431",
   "metadata": {},
   "outputs": [],
   "source": [
    "class ColorText:\n",
    "    PURPLE = '\\033[1;35;48m'\n",
    "    CYAN = '\\033[1;36;48m'\n",
    "    BOLD = '\\033[1;39;48m'\n",
    "    GREEN = '\\033[1;34;48m'\n",
    "    BLUE = '\\033[1;44;48m'\n",
    "    ORANGE = '\\033[1;32;48m'\n",
    "    YELLOW = '\\033[1;33;48m'\n",
    "    RED = '\\033[1;31;48m'\n",
    "    BLACK = '\\033[1;30;48m'\n",
    "    UNDERLINE = '\\033[1;37;48m'\n",
    "    END = '\\033[1;37;0m'"
   ]
  },
  {
   "cell_type": "code",
   "execution_count": 126,
   "id": "e495aa5f",
   "metadata": {},
   "outputs": [
    {
     "name": "stdout",
     "output_type": "stream",
     "text": [
      "\u001b[1;34;48m УЗЕЛ: индекс = 0, порог = 0.16\u001b[1;37;0m\n",
      "--> Левая ветка:\n",
      "\u001b[1;34;48m    УЗЕЛ: индекс = 1, порог = -1.52\u001b[1;37;0m\n",
      "   --> Левая ветка:\n",
      "\u001b[1;34;48m       УЗЕЛ: индекс = 0, порог = -0.95\u001b[1;37;0m\n",
      "      --> Левая ветка:\n",
      "\u001b[1;32;48m          ЛИСТ: прогноз = 0, объектов = 6\u001b[1;37;0m\n",
      "      --> Правая ветка:\n",
      "\u001b[1;32;48m          ЛИСТ: прогноз = 1, объектов = 6\u001b[1;37;0m\n",
      "   --> Правая ветка:\n",
      "\u001b[1;32;48m       ЛИСТ: прогноз = 0, объектов = 28\u001b[1;37;0m\n",
      "--> Правая ветка:\n",
      "\u001b[1;32;48m    ЛИСТ: прогноз = 1, объектов = 30\u001b[1;37;0m\n"
     ]
    }
   ],
   "source": [
    "# Напечатаем ход нашего дерева\n",
    "def print_tree(node, spacing=\"\"):\n",
    "\n",
    "    # Если лист, то выводим его прогноз\n",
    "    if isinstance(node, Leaf):\n",
    "        print(ColorText.ORANGE + spacing + ' ЛИСТ' \n",
    "                  + ': прогноз = ' + str(node.prediction) \n",
    "                  + ', объектов = ' + str(len(node.labels)) \n",
    "                  + ColorText.END)\n",
    "        return\n",
    "\n",
    "    # Выведем значение индекса и порога на этом узле\n",
    "    print(ColorText.GREEN + spacing + ' УЗЕЛ'  \n",
    "              + ': индекс = ' + str(node.index) \n",
    "              + ', порог = ' + str(round(node.t, 2))\n",
    "              + ColorText.END)\n",
    "\n",
    "    # Рекурсионный вызов функции на положительном поддереве\n",
    "    print (spacing + '--> Левая ветка:')\n",
    "    print_tree(node.true_branch, spacing + \"   \")\n",
    "\n",
    "    # Рекурсионный вызов функции на положительном поддереве\n",
    "    print (spacing + '--> Правая ветка:')\n",
    "    print_tree(node.false_branch, spacing + \"   \")\n",
    "    \n",
    "print_tree(my_tree)"
   ]
  },
  {
   "cell_type": "code",
   "execution_count": 127,
   "id": "4a888036",
   "metadata": {},
   "outputs": [],
   "source": [
    "# Получим ответы для обучающей выборки \n",
    "train_answers = predict(train_data, my_tree)"
   ]
  },
  {
   "cell_type": "code",
   "execution_count": 128,
   "id": "0d31e14c",
   "metadata": {},
   "outputs": [],
   "source": [
    "# И получим ответы для тестовой выборки\n",
    "answers = predict(test_data, my_tree)"
   ]
  },
  {
   "cell_type": "code",
   "execution_count": 129,
   "id": "0326dc8b",
   "metadata": {},
   "outputs": [],
   "source": [
    "# Введем функцию подсчета точности как доли правильных ответов\n",
    "def accuracy_metric(actual, predicted):\n",
    "    correct = 0\n",
    "    for i in range(len(actual)):\n",
    "        if actual[i] == predicted[i]:\n",
    "            correct += 1\n",
    "    return correct / float(len(actual)) * 100.0"
   ]
  },
  {
   "cell_type": "code",
   "execution_count": 130,
   "id": "44f89271",
   "metadata": {},
   "outputs": [
    {
     "data": {
      "text/plain": [
       "98.57142857142858"
      ]
     },
     "execution_count": 130,
     "metadata": {},
     "output_type": "execute_result"
    }
   ],
   "source": [
    "# Точность на обучающей выборке\n",
    "train_accuracy = accuracy_metric(train_labels, train_answers)\n",
    "train_accuracy"
   ]
  },
  {
   "cell_type": "code",
   "execution_count": 131,
   "id": "66551688",
   "metadata": {},
   "outputs": [
    {
     "data": {
      "text/plain": [
       "100.0"
      ]
     },
     "execution_count": 131,
     "metadata": {},
     "output_type": "execute_result"
    }
   ],
   "source": [
    "# Точность на тестовой выборке\n",
    "test_accuracy = accuracy_metric(test_labels, answers)\n",
    "test_accuracy"
   ]
  },
  {
   "cell_type": "code",
   "execution_count": 146,
   "id": "a77738e4",
   "metadata": {},
   "outputs": [
    {
     "data": {
      "text/plain": [
       "[]"
      ]
     },
     "execution_count": 146,
     "metadata": {},
     "output_type": "execute_result"
    },
    {
     "data": {
      "image/png": "[encoded data removed]",
      "text/plain": [
       "<Figure size 1152x504 with 2 Axes>"
      ]
     },
     "metadata": {
      "needs_background": "light"
     },
     "output_type": "display_data"
    }
   ],
   "source": [
    "# Визуализируем дерево на графике\n",
    "def get_meshgrid(data, step=0.05, border=1.2):\n",
    "    x_min, x_max = data[:, 0].min() - border, data[:, 0].max() + border\n",
    "    y_min, y_max = data[:, 1].min() - border, data[:, 1].max() + border\n",
    "    return np.meshgrid(np.arange(x_min, x_max, step), np.arange(y_min, y_max, step))\n",
    "\n",
    "plt.figure(figsize = (16, 7))\n",
    "\n",
    "# график обучающей выборки\n",
    "plt.subplot(1,2,1)\n",
    "xx, yy = get_meshgrid(train_data)\n",
    "mesh_predictions = np.array(predict(np.c_[xx.ravel(), yy.ravel()], my_tree)).reshape(xx.shape)\n",
    "plt.pcolormesh(xx, yy, mesh_predictions, shading= 'nearest',cmap=light_colors)\n",
    "plt.scatter(train_data[:, 0], train_data[:, 1], c = train_labels, cmap = colors)\n",
    "plt.title(f'Train accuracy={train_accuracy:.3f}')\n",
    "\n",
    "# график тестовой выборки\n",
    "plt.subplot(1,2,2)\n",
    "plt.pcolormesh(xx, yy, mesh_predictions, shading= 'nearest',cmap=light_colors)\n",
    "plt.scatter(test_data[:, 0], test_data[:, 1], c = test_labels, cmap = colors)\n",
    "plt.title(f'Test accuracy={test_accuracy:.3f}')\n",
    "plt.plot()"
   ]
  },
  {
   "cell_type": "markdown",
   "id": "51a5450b",
   "metadata": {},
   "source": [
    "# Задача 2"
   ]
  },
  {
   "cell_type": "markdown",
   "id": "ff2aa63b",
   "metadata": {},
   "source": [
    "(*) Для задачи классификации обучите дерево решений с использованием критериев разбиения Джини и Энтропия. Сравните качество классификации, сделайте выводы."
   ]
  },
  {
   "cell_type": "code",
   "execution_count": 133,
   "id": "4ad57697",
   "metadata": {},
   "outputs": [
    {
     "name": "stdout",
     "output_type": "stream",
     "text": [
      "0.5 0.5\n"
     ]
    }
   ],
   "source": [
    "# Расчет критерия Шеннона\n",
    "\n",
    "def shennon(labels):\n",
    "    #  подсчет количества объектов разных классов\n",
    "    classes = {}  # сформируем словарь \"класс: количество объектов\"\n",
    "    for label in labels:\n",
    "        if label not in classes:\n",
    "            classes[label] = 0\n",
    "        classes[label] += 1\n",
    "    \n",
    "    #  расчет критерия\n",
    "    #impurity = 0\n",
    "    for label in classes: # по ключу словаря считаем долю объектов\n",
    "        p = classes[label] / len(labels)\n",
    "        impurity = - p*np.log2(p)\n",
    "        \n",
    "    return impurity\n",
    "H = shennon(test_labels)\n",
    "H2 = gini(test_labels)\n",
    "#H_0 = - 5/10 * np.log2(5/10) - 5/10 * np.log2(5/10) # энтропия Шеннона\n",
    "print (H, H2)"
   ]
  },
  {
   "cell_type": "code",
   "execution_count": 134,
   "id": "5c9abfb2",
   "metadata": {},
   "outputs": [],
   "source": [
    "# Расчет качества\n",
    "\n",
    "def quality(left_labels, right_labels, current_shennon):\n",
    "\n",
    "    # доля выбоки, ушедшая в левое поддерево\n",
    "    p = float(left_labels.shape[0]) / (left_labels.shape[0] + right_labels.shape[0])\n",
    "    \n",
    "    return current_shennon - p * shennon(left_labels) - (1 - p) * shennon(right_labels)"
   ]
  },
  {
   "cell_type": "code",
   "execution_count": 135,
   "id": "e0c6ad1b",
   "metadata": {},
   "outputs": [],
   "source": [
    "# Разбиение датасета в узле\n",
    "\n",
    "def split(data, labels, index, t):\n",
    "    \n",
    "    left = np.where(data[:, index] <= t)\n",
    "    right = np.where(data[:, index] > t)\n",
    "        \n",
    "    true_data = data[left]\n",
    "    false_data = data[right]\n",
    "    true_labels = labels[left]\n",
    "    false_labels = labels[right]\n",
    "        \n",
    "    return true_data, false_data, true_labels, false_labels"
   ]
  },
  {
   "cell_type": "code",
   "execution_count": 136,
   "id": "0e1eabef",
   "metadata": {},
   "outputs": [],
   "source": [
    "# Нахождение наилучшего разбиения\n",
    "\n",
    "def find_best_split_shennon(data, labels, min_leaf): #на вход функции передаются признаки, метки и критерий останова\n",
    "    \n",
    "    #  обозначим минимальное количество объектов в узле\n",
    "    #min_leaf = 5\n",
    "\n",
    "    current_shennon = shennon(labels)\n",
    "\n",
    "    best_quality = 0\n",
    "    best_t = None\n",
    "    best_index = None\n",
    "    \n",
    "    n_features = data.shape[1]\n",
    "    \n",
    "    for index in range(n_features):\n",
    "        # будем проверять только уникальные значения признака, исключая повторения\n",
    "        t_values = np.unique([row[index] for row in data])\n",
    "        \n",
    "        for t in t_values:\n",
    "            true_data, false_data, true_labels, false_labels = split(data, labels, index, t)\n",
    "            #  пропускаем разбиения, в которых в узле остается менее 5 объектов\n",
    "            if len(true_data) < min_leaf or len(false_data) < min_leaf:\n",
    "                continue\n",
    "            \n",
    "            current_quality = quality(true_labels, false_labels, current_shennon)\n",
    "            #print (current_quality)\n",
    "            #  выбираем порог, на котором получается максимальный прирост качества\n",
    "            if current_quality > best_quality:\n",
    "                best_quality, best_t, best_index = current_quality, t, index\n",
    "\n",
    "    return best_quality, best_t, best_index"
   ]
  },
  {
   "cell_type": "code",
   "execution_count": 137,
   "id": "b9c9286d",
   "metadata": {},
   "outputs": [],
   "source": [
    "def classify_object(obj, node):\n",
    "\n",
    "    #  Останавливаем рекурсию, если достигли листа\n",
    "    if isinstance(node, Leaf):\n",
    "        answer = node.prediction\n",
    "        return answer\n",
    "\n",
    "    if obj[node.index] <= node.t:\n",
    "        return classify_object(obj, node.true_branch)\n",
    "    else:\n",
    "        return classify_object(obj, node.false_branch)"
   ]
  },
  {
   "cell_type": "code",
   "execution_count": 138,
   "id": "5e4ce67b",
   "metadata": {},
   "outputs": [],
   "source": [
    "# Построение дерева с помощью рекурсивной функции\n",
    "\n",
    "def build_tree(data, labels, min_leaf):\n",
    "\n",
    "    quality, t, index = find_best_split_shennon(data, labels, min_leaf)\n",
    "    print(quality, t, index)\n",
    "    #  Базовый случай - прекращаем рекурсию, когда нет прироста в качества\n",
    "    if quality == 0:\n",
    "        return Leaf(data, labels)\n",
    "\n",
    "    true_data, false_data, true_labels, false_labels = split(data, labels, index, t)\n",
    "\n",
    "    # Рекурсивно строим два поддерева\n",
    "    true_branch = build_tree(true_data, true_labels, min_leaf)\n",
    "    false_branch = build_tree(false_data, false_labels, min_leaf)\n",
    "\n",
    "    # Возвращаем класс узла со всеми поддеревьями, то есть целого дерева\n",
    "    return Node(index, t, true_branch, false_branch)\n",
    "   "
   ]
  },
  {
   "cell_type": "code",
   "execution_count": 139,
   "id": "b85df376",
   "metadata": {},
   "outputs": [
    {
     "name": "stdout",
     "output_type": "stream",
     "text": [
      "0.2873470826336646 0.663389024866191 0\n",
      "0.07028660330648302 -1.482228891218829 1\n",
      "0.2794171866886993 -0.4942656820712277 0\n",
      "0 None None\n",
      "0 None None\n",
      "0.04734524785306024 -0.05059925053749681 0\n",
      "0 None None\n",
      "0 None None\n",
      "0 None None\n",
      "Wall time: 26.9 ms\n"
     ]
    }
   ],
   "source": [
    "%%time\n",
    "\n",
    "# Построим дерево по обучающей выборке\n",
    "my_tree = build_tree(train_data, train_labels, 5)\n",
    "\n",
    "#вывод при использовании критерия Джинни\n",
    "#0.375 0.16261402870113306 0\n",
    "#0.07291666666666671 -1.5208896621663803 1\n",
    "#0.3472222222222221 -0.9478301462477035 0"
   ]
  },
  {
   "cell_type": "code",
   "execution_count": 140,
   "id": "bc7e972d",
   "metadata": {},
   "outputs": [],
   "source": [
    "# Получим ответы для обучающей выборки \n",
    "train_answers = predict(train_data, my_tree)\n",
    "# И получим ответы для тестовой выборки\n",
    "answers = predict(test_data, my_tree)"
   ]
  },
  {
   "cell_type": "code",
   "execution_count": 141,
   "id": "5261402a",
   "metadata": {},
   "outputs": [
    {
     "data": {
      "text/plain": [
       "95.71428571428572"
      ]
     },
     "execution_count": 141,
     "metadata": {},
     "output_type": "execute_result"
    }
   ],
   "source": [
    "# Точность на обучающей выборке\n",
    "train_accuracy = accuracy_metric(train_labels, train_answers)\n",
    "train_accuracy"
   ]
  },
  {
   "cell_type": "code",
   "execution_count": 142,
   "id": "d45ea7fb",
   "metadata": {},
   "outputs": [
    {
     "data": {
      "text/plain": [
       "96.66666666666667"
      ]
     },
     "execution_count": 142,
     "metadata": {},
     "output_type": "execute_result"
    }
   ],
   "source": [
    "# Точность на тестовой выборке\n",
    "test_accuracy = accuracy_metric(test_labels, answers)\n",
    "test_accuracy"
   ]
  },
  {
   "cell_type": "code",
   "execution_count": 143,
   "id": "6ccd328f",
   "metadata": {},
   "outputs": [
    {
     "name": "stdout",
     "output_type": "stream",
     "text": [
      "\u001b[1;34;48m УЗЕЛ: индекс = 0, порог = 0.66\u001b[1;37;0m\n",
      "--> Левая ветка:\n",
      "\u001b[1;34;48m    УЗЕЛ: индекс = 1, порог = -1.48\u001b[1;37;0m\n",
      "   --> Левая ветка:\n",
      "\u001b[1;34;48m       УЗЕЛ: индекс = 0, порог = -0.49\u001b[1;37;0m\n",
      "      --> Левая ветка:\n",
      "\u001b[1;32;48m          ЛИСТ: прогноз = 0, объектов = 8\u001b[1;37;0m\n",
      "      --> Правая ветка:\n",
      "\u001b[1;32;48m          ЛИСТ: прогноз = 1, объектов = 8\u001b[1;37;0m\n",
      "   --> Правая ветка:\n",
      "\u001b[1;34;48m       УЗЕЛ: индекс = 0, порог = -0.05\u001b[1;37;0m\n",
      "      --> Левая ветка:\n",
      "\u001b[1;32;48m          ЛИСТ: прогноз = 0, объектов = 26\u001b[1;37;0m\n",
      "      --> Правая ветка:\n",
      "\u001b[1;32;48m          ЛИСТ: прогноз = 1, объектов = 5\u001b[1;37;0m\n",
      "--> Правая ветка:\n",
      "\u001b[1;32;48m    ЛИСТ: прогноз = 1, объектов = 23\u001b[1;37;0m\n"
     ]
    }
   ],
   "source": [
    "# Напечатаем ход нашего дерева\n",
    "def print_tree(node, spacing=\"\"):\n",
    "\n",
    "    # Если лист, то выводим его прогноз\n",
    "    if isinstance(node, Leaf):\n",
    "        print(ColorText.ORANGE + spacing + ' ЛИСТ' \n",
    "                  + ': прогноз = ' + str(node.prediction) \n",
    "                  + ', объектов = ' + str(len(node.labels)) \n",
    "                  + ColorText.END)\n",
    "        return\n",
    "\n",
    "    # Выведем значение индекса и порога на этом узле\n",
    "    print(ColorText.GREEN + spacing + ' УЗЕЛ'  \n",
    "              + ': индекс = ' + str(node.index) \n",
    "              + ', порог = ' + str(round(node.t, 2))\n",
    "              + ColorText.END)\n",
    "\n",
    "    # Рекурсионный вызов функции на положительном поддереве\n",
    "    print (spacing + '--> Левая ветка:')\n",
    "    print_tree(node.true_branch, spacing + \"   \")\n",
    "\n",
    "    # Рекурсионный вызов функции на положительном поддереве\n",
    "    print (spacing + '--> Правая ветка:')\n",
    "    print_tree(node.false_branch, spacing + \"   \")\n",
    "    \n",
    "print_tree(my_tree)"
   ]
  },
  {
   "cell_type": "code",
   "execution_count": 145,
   "id": "d53073f3",
   "metadata": {},
   "outputs": [
    {
     "data": {
      "text/plain": [
       "[]"
      ]
     },
     "execution_count": 145,
     "metadata": {},
     "output_type": "execute_result"
    },
    {
     "data": {
      "image/png": "[encoded data removed]",
      "text/plain": [
       "<Figure size 1152x504 with 2 Axes>"
      ]
     },
     "metadata": {
      "needs_background": "light"
     },
     "output_type": "display_data"
    }
   ],
   "source": [
    "# Визуализируем дерево на графике\n",
    "def get_meshgrid(data, step=0.05, border=1.2):\n",
    "    x_min, x_max = data[:, 0].min() - border, data[:, 0].max() + border\n",
    "    y_min, y_max = data[:, 1].min() - border, data[:, 1].max() + border\n",
    "    return np.meshgrid(np.arange(x_min, x_max, step), np.arange(y_min, y_max, step))\n",
    "\n",
    "plt.figure(figsize = (16, 7))\n",
    "\n",
    "# график обучающей выборки\n",
    "plt.subplot(1,2,1)\n",
    "xx, yy = get_meshgrid(train_data)\n",
    "mesh_predictions = np.array(predict(np.c_[xx.ravel(), yy.ravel()], my_tree)).reshape(xx.shape)\n",
    "plt.pcolormesh(xx, yy, mesh_predictions, shading= 'nearest',cmap=light_colors)\n",
    "plt.scatter(train_data[:, 0], train_data[:, 1], c = train_labels, cmap = colors)\n",
    "plt.title(f'Train accuracy={train_accuracy:.3f}')\n",
    "\n",
    "# график тестовой выборки\n",
    "plt.subplot(1,2,2)\n",
    "plt.pcolormesh(xx, yy, mesh_predictions, shading= 'nearest',cmap=light_colors)\n",
    "plt.scatter(test_data[:, 0], test_data[:, 1], c = test_labels, cmap = colors)\n",
    "plt.title(f'Test accuracy={test_accuracy:.3f}')\n",
    "plt.plot()"
   ]
  },
  {
   "cell_type": "markdown",
   "id": "d1eac730",
   "metadata": {},
   "source": [
    "Вывод: при использовании энтропии в качестве критерия разбиения, падает точность классификации."
   ]
  },
  {
   "cell_type": "markdown",
   "id": "7f7579f2",
   "metadata": {},
   "source": [
    "# Задача 3"
   ]
  },
  {
   "cell_type": "markdown",
   "id": "54934146",
   "metadata": {},
   "source": [
    "(*) Реализуйте дерево для задачи регрессии. Возьмите за основу дерево, реализованное в методичке, заменив механизм предсказания в листе на взятие среднего значения по выборке, а критерий Джини на дисперсию значений. Проверьте точность предсказания дерева на одной из метрик задачи регрессии."
   ]
  },
  {
   "cell_type": "code",
   "execution_count": null,
   "id": "56e5688c",
   "metadata": {},
   "outputs": [],
   "source": []
  },
  {
   "cell_type": "code",
   "execution_count": null,
   "id": "b9b6ba31",
   "metadata": {},
   "outputs": [],
   "source": []
  }
 ],
 "metadata": {
  "kernelspec": {
   "display_name": "Python 3",
   "language": "python",
   "name": "python3"
  },
  "language_info": {
   "codemirror_mode": {
    "name": "ipython",
    "version": 3
   },
   "file_extension": ".py",
   "mimetype": "text/x-python",
   "name": "python",
   "nbconvert_exporter": "python",
   "pygments_lexer": "ipython3",
   "version": "3.8.8"
  }
 },
 "nbformat": 4,
 "nbformat_minor": 5
}
