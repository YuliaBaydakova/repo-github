{
 "cells": [
  {
   "cell_type": "markdown",
   "id": "47d48914",
   "metadata": {},
   "source": [
    "# Задача 1"
   ]
  },
  {
   "cell_type": "markdown",
   "id": "f9ebd147",
   "metadata": {},
   "source": [
    "1. Проведите небольшое исследование алгоритма градиентного спуска на данных из урока. Оцените влияние значений скорости обучения (`eta`) и количества итераций на ошибку алгоритма. Как связаны эти два гиперпараметра между собой? Подберите скорость обучения и количество итераций до совпадения ответов алгоритма с результатами МНК. Как можно ускорить процесс вычисления весов?"
   ]
  },
  {
   "cell_type": "code",
   "execution_count": 18,
   "id": "4d11684b",
   "metadata": {},
   "outputs": [],
   "source": [
    "import numpy as np\n",
    "import matplotlib.pyplot as plt"
   ]
  },
  {
   "cell_type": "code",
   "execution_count": 19,
   "id": "ba37f385",
   "metadata": {},
   "outputs": [
    {
     "data": {
      "text/plain": [
       "(10, 2)"
      ]
     },
     "execution_count": 19,
     "metadata": {},
     "output_type": "execute_result"
    }
   ],
   "source": [
    "X = np.array([[1, 1, 1, 1, 1, 1, 1, 1, 1, 1],   # для умножения на intercept\n",
    "              [1, 1, 2, 1, 3, 0, 5, 10, 1, 2]]).T # стаж репетитора\n",
    "X.shape"
   ]
  },
  {
   "cell_type": "code",
   "execution_count": 20,
   "id": "61618151",
   "metadata": {},
   "outputs": [],
   "source": [
    "# средний балл ЕГЭ (целевая переменная)\n",
    "y = [45, 55, 50, 59, 65, 35, 75, 80, 50, 60]"
   ]
  },
  {
   "cell_type": "code",
   "execution_count": 21,
   "id": "13a2eb67",
   "metadata": {},
   "outputs": [],
   "source": [
    "def calc_mse(y, y_pred):\n",
    "    err = np.mean((y - y_pred)**2)\n",
    "    return err\n",
    "\n",
    "def calc_mae(y, y_pred):\n",
    "    err = np.mean(np.abs(y - y_pred))\n",
    "    return err"
   ]
  },
  {
   "cell_type": "code",
   "execution_count": 22,
   "id": "f091d948",
   "metadata": {},
   "outputs": [],
   "source": [
    "n = X.shape[0]\n",
    "eta = 1e-3\n",
    "iterations = 1000\n",
    "\n",
    "def isledovanie (n,eta,iterations, delitel):\n",
    "    w = np.array([1, 0.5])\n",
    "    for i in range(iterations):\n",
    "        y_pred = np.dot(X, w)\n",
    "        err = calc_mse(y, y_pred)\n",
    "        for j in range(w.shape[0]):\n",
    "            w[j] -= eta * (1/n * 2 * np.sum(X[:,j] * (y_pred - y)))\n",
    "        if i %  delitel == 0:\n",
    "            print(i, w, err) # МНК: array([47.23214286,  3.91071429]) 45.937499999999986"
   ]
  },
  {
   "cell_type": "markdown",
   "id": "644ad078",
   "metadata": {},
   "source": [
    "Если длина шага слишком мала, то метод будет слишком медленно приближаться к правильному ответу, и потребуется большое число итераций для достижения сходимости. А если длина, наоборот, будет слишком большой, появится вероятность «перепрыгивания» алгоритма через минимум функции или вообще отсутствия сходимости градиентного спуска."
   ]
  },
  {
   "cell_type": "code",
   "execution_count": 23,
   "id": "d12df2fc",
   "metadata": {},
   "outputs": [
    {
     "name": "stdout",
     "output_type": "stream",
     "text": [
      "0 [1.1102 0.84  ] 3173.15\n",
      "100 [ 7.43515582 10.71754582] 899.5990444359252\n",
      "200 [11.44993589 10.49282195] 735.5540619653672\n",
      "300 [14.98921624  9.8634316 ] 606.0048772266812\n",
      "400 [18.17511588  9.27626113] 500.7989288428638\n",
      "500 [21.04606457  8.74617136] 415.355423398327\n",
      "600 [23.63334499  8.26841272] 345.96206460054725\n",
      "700 [25.96499229  7.83785632] 289.6039104863001\n",
      "800 [28.06626432  7.44984037] 243.83236130353217\n",
      "900 [29.95992301  7.10016181] 206.65877484533297\n"
     ]
    }
   ],
   "source": [
    "opit = isledovanie (n,1e-3,1000,100) #маленький шаг обучения - большое количество итераций"
   ]
  },
  {
   "cell_type": "code",
   "execution_count": 24,
   "id": "174d091b",
   "metadata": {},
   "outputs": [
    {
     "name": "stdout",
     "output_type": "stream",
     "text": [
      "0 [2.102 3.9  ] 3173.15\n",
      "500 [46.99760587  3.95402334] 45.96769776787538\n",
      "1000 [47.23088237  3.91094704] 45.937500872219886\n",
      "1500 [47.23213608  3.91071554] 45.93750000002521\n",
      "2000 [47.23214282  3.91071429] 45.93749999999999\n",
      "2500 [47.23214286  3.91071429] 45.93750000000001\n"
     ]
    }
   ],
   "source": [
    "opit1 = isledovanie (n,1e-2,3000,500)"
   ]
  },
  {
   "cell_type": "code",
   "execution_count": 25,
   "id": "b649718d",
   "metadata": {},
   "outputs": [
    {
     "name": "stdout",
     "output_type": "stream",
     "text": [
      "2271 [47.23214285  3.91071429] 45.93749999999999\n",
      "2272 [47.23214286  3.91071429] 45.9375\n"
     ]
    }
   ],
   "source": [
    "def poisk (n,eta,iterations):\n",
    "    w = np.array([1, 0.5])\n",
    "    for i in range(iterations):\n",
    "        y_pred = np.dot(X, w)\n",
    "        err = calc_mse(y, y_pred)\n",
    "        for j in range(w.shape[0]):\n",
    "            w[j] -= eta * (1/n * 2 * np.sum(X[:,j] * (y_pred - y)))\n",
    "        if i > 2270:\n",
    "            print(i, w, err) # МНК: array([47.23214286,  3.91071429]) 45.937499999999986\n",
    "opit_2 = poisk (n,1e-2,2273) #необходимое количество итераций 2272"
   ]
  },
  {
   "cell_type": "markdown",
   "id": "14a1cbc6",
   "metadata": {},
   "source": [
    "Ускорения работы алгоритма можно добиться, убрав второй цикл for."
   ]
  },
  {
   "cell_type": "markdown",
   "id": "a867b76c",
   "metadata": {},
   "source": [
    "# Задача 2"
   ]
  },
  {
   "cell_type": "markdown",
   "id": "82a5ef0e",
   "metadata": {},
   "source": [
    "*2. В этом коде мы избавляемся от итераций по весам, но тут есть ошибка, исправьте ее:"
   ]
  },
  {
   "cell_type": "code",
   "execution_count": 26,
   "id": "17500e2e",
   "metadata": {},
   "outputs": [
    {
     "name": "stdout",
     "output_type": "stream",
     "text": [
      "0 [1.4502 0.9502] 3173.15\n",
      "100 [11.6740207 11.1740207] 737.5884748924025\n",
      "200 [11.82000082 11.32000082] 737.0919281764903\n",
      "300 [11.82208519 11.32208519] 737.0918269437198\n",
      "400 [11.82211495 11.32211495] 737.091826923081\n",
      "500 [11.82211538 11.32211538] 737.091826923077\n",
      "600 [11.82211538 11.32211538] 737.0918269230771\n",
      "700 [11.82211538 11.32211538] 737.091826923077\n",
      "800 [11.82211538 11.32211538] 737.091826923077\n",
      "900 [11.82211538 11.32211538] 737.091826923077\n"
     ]
    }
   ],
   "source": [
    "w = np.array([1, 0.5])\n",
    "\n",
    "for i in range(iterations):\n",
    "    y_pred = np.dot(X, w)\n",
    "    err = calc_mse(y, y_pred)\n",
    "    w -= (eta * (1/n * 2 * np.sum(X.T * (y_pred - y)))) # ошибка!\n",
    "    if i % 100 == 0:\n",
    "        print(i, w, err) # [47.23214286  3.91071429] 45.937499999999986"
   ]
  },
  {
   "cell_type": "code",
   "execution_count": 27,
   "id": "0fc408e9",
   "metadata": {},
   "outputs": [
    {
     "name": "stdout",
     "output_type": "stream",
     "text": [
      "0 [1.1102 0.84  ] 3173.15\n",
      "100 [ 7.43515582 10.71754582] 899.5990444359252\n",
      "200 [11.44993589 10.49282195] 735.5540619653672\n",
      "300 [14.98921624  9.8634316 ] 606.0048772266812\n",
      "400 [18.17511588  9.27626113] 500.7989288428638\n",
      "500 [21.04606457  8.74617136] 415.355423398327\n",
      "600 [23.63334499  8.26841272] 345.96206460054725\n",
      "700 [25.96499229  7.83785632] 289.6039104863001\n",
      "800 [28.06626432  7.44984037] 243.83236130353217\n",
      "900 [29.95992301  7.10016181] 206.65877484533297\n"
     ]
    }
   ],
   "source": [
    "w = np.array([1, 0.5])\n",
    "\n",
    "for i in range(iterations):\n",
    "    y_pred = np.dot(X, w)\n",
    "    err = calc_mse(y, y_pred)\n",
    "    w -= (eta * (1/n * 2 * np.sum(X.T *(np.sum(w*X, axis = 1)- y), axis =1))) # исправлено\n",
    "    if i % 100 == 0:\n",
    "        print(i, w, err) # [47.23214286  3.91071429] 45.937499999999986"
   ]
  },
  {
   "cell_type": "markdown",
   "id": "f7a0c1ac",
   "metadata": {},
   "source": [
    "*3. Вместо того, чтобы задавать количество итераций, задайте условие остановки алгоритма - когда ошибка за итерацию начинает изменяться ниже определенного порога. \n",
    "\n",
    "Сколько нужно сделать итераций, если установить допустимое отклонение mse за одну итерацию в размере diff=1e-6, а значение eta=1e-2?"
   ]
  },
  {
   "cell_type": "code",
   "execution_count": 28,
   "id": "b8ba2d09",
   "metadata": {},
   "outputs": [
    {
     "name": "stdout",
     "output_type": "stream",
     "text": [
      "9.98719997369335e-07 810\n"
     ]
    }
   ],
   "source": [
    "w = np.array([1, 0.5])\n",
    "diff = 1e-6\n",
    "eta = 1e-2\n",
    "i = 0\n",
    "errs=[]\n",
    "iterations = 10\n",
    "k = 1\n",
    "while k > diff:\n",
    "    y_pred = np.dot(X, w)\n",
    "    err = calc_mse(y, y_pred)\n",
    "    w -= (eta * (1/n * 2 * np.sum(X.T *(np.sum(w*X, axis = 1)- y), axis =1)))\n",
    "    errs.append(err)\n",
    "    if i > 2:\n",
    "        k = errs[i-1] - errs[i]\n",
    "    i+=1\n",
    "print(k, i)   "
   ]
  },
  {
   "cell_type": "code",
   "execution_count": null,
   "id": "32b9890a",
   "metadata": {},
   "outputs": [],
   "source": []
  },
  {
   "cell_type": "code",
   "execution_count": null,
   "id": "8d2fd725",
   "metadata": {},
   "outputs": [],
   "source": []
  }
 ],
 "metadata": {
  "kernelspec": {
   "display_name": "Python 3",
   "language": "python",
   "name": "python3"
  },
  "language_info": {
   "codemirror_mode": {
    "name": "ipython",
    "version": 3
   },
   "file_extension": ".py",
   "mimetype": "text/x-python",
   "name": "python",
   "nbconvert_exporter": "python",
   "pygments_lexer": "ipython3",
   "version": "3.8.8"
  }
 },
 "nbformat": 4,
 "nbformat_minor": 5
}
