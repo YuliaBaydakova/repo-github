{
 "cells": [
  {
   "cell_type": "markdown",
   "id": "0649d491",
   "metadata": {},
   "source": [
    "# Домашнее задание к уроку №8"
   ]
  },
  {
   "cell_type": "markdown",
   "id": "6786d129",
   "metadata": {},
   "source": [
    "# Тема “Обучение без учителя”"
   ]
  },
  {
   "cell_type": "markdown",
   "id": "162d1fbc",
   "metadata": {},
   "source": [
    "# Задание 1"
   ]
  },
  {
   "cell_type": "markdown",
   "id": "9f589344",
   "metadata": {},
   "source": [
    "Импортируйте библиотеки pandas, numpy и matplotlib.\n",
    "Загрузите \"Boston House Prices dataset\" из встроенных наборов \n",
    "данных библиотеки sklearn.\n",
    "Создайте датафреймы X и y из этих данных.\n",
    "Разбейте эти датафреймы на тренировочные (X_train, y_train) и тестовые (X_test, y_test)\n",
    "с помощью функции train_test_split так, чтобы размер тестовой выборки\n",
    "составлял 20% от всех данных, при этом аргумент random_state должен быть равен 42.\n",
    "Масштабируйте данные с помощью StandardScaler.\n",
    "Постройте модель TSNE на тренировочный данных с параметрами:\n",
    "n_components=2, learning_rate=250, random_state=42.\n",
    "Постройте диаграмму рассеяния на этих данных.\n"
   ]
  },
  {
   "cell_type": "code",
   "execution_count": 138,
   "id": "76f90a9d",
   "metadata": {},
   "outputs": [],
   "source": [
    "import numpy as np\n",
    "import pandas as pd\n",
    "import matplotlib\n",
    "import matplotlib.pyplot as plt"
   ]
  },
  {
   "cell_type": "code",
   "execution_count": 139,
   "id": "4949eed8",
   "metadata": {},
   "outputs": [
    {
     "name": "stderr",
     "output_type": "stream",
     "text": [
      "c:\\users\\79263\\appdata\\local\\programs\\python\\python39\\lib\\site-packages\\sklearn\\utils\\deprecation.py:87: FutureWarning: Function load_boston is deprecated; `load_boston` is deprecated in 1.0 and will be removed in 1.2.\n",
      "\n",
      "    The Boston housing prices dataset has an ethical problem. You can refer to\n",
      "    the documentation of this function for further details.\n",
      "\n",
      "    The scikit-learn maintainers therefore strongly discourage the use of this\n",
      "    dataset unless the purpose of the code is to study and educate about\n",
      "    ethical issues in data science and machine learning.\n",
      "\n",
      "    In this case special case, you can fetch the dataset from the original\n",
      "    source::\n",
      "\n",
      "        import pandas as pd\n",
      "        import numpy as np\n",
      "\n",
      "\n",
      "        data_url = \"http://lib.stat.cmu.edu/datasets/boston\"\n",
      "        raw_df = pd.read_csv(data_url, sep=\"\\s+\", skiprows=22, header=None)\n",
      "        data = np.hstack([raw_df.values[::2, :], raw_df.values[1::2, :2]])\n",
      "        target = raw_df.values[1::2, 2]\n",
      "\n",
      "    Alternative datasets include the California housing dataset (i.e.\n",
      "    func:`~sklearn.datasets.fetch_california_housing`) and the Ames housing\n",
      "    dataset. You can load the datasets as follows:\n",
      "\n",
      "        from sklearn.datasets import fetch_california_housing\n",
      "        housing = fetch_california_housing()\n",
      "\n",
      "    for the California housing dataset and:\n",
      "\n",
      "        from sklearn.datasets import fetch_openml\n",
      "        housing = fetch_openml(name=\"house_prices\", as_frame=True)\n",
      "\n",
      "    for the Ames housing dataset.\n",
      "    \n",
      "  warnings.warn(msg, category=FutureWarning)\n"
     ]
    }
   ],
   "source": [
    "from sklearn.datasets import load_boston\n",
    "\n",
    "boston = load_boston()"
   ]
  },
  {
   "cell_type": "code",
   "execution_count": 140,
   "id": "c5ef8cb2",
   "metadata": {},
   "outputs": [],
   "source": [
    "data = boston[\"data\"]\n",
    "feature_names = boston[\"feature_names\"]\n",
    "target = boston[\"target\"]\n",
    "X = pd.DataFrame(data, columns=feature_names)\n",
    "y = pd.DataFrame(target, columns=[\"price\"])"
   ]
  },
  {
   "cell_type": "code",
   "execution_count": 141,
   "id": "7927d710",
   "metadata": {},
   "outputs": [
    {
     "name": "stdout",
     "output_type": "stream",
     "text": [
      "<class 'pandas.core.frame.DataFrame'>\n",
      "RangeIndex: 506 entries, 0 to 505\n",
      "Data columns (total 13 columns):\n",
      " #   Column   Non-Null Count  Dtype  \n",
      "---  ------   --------------  -----  \n",
      " 0   CRIM     506 non-null    float64\n",
      " 1   ZN       506 non-null    float64\n",
      " 2   INDUS    506 non-null    float64\n",
      " 3   CHAS     506 non-null    float64\n",
      " 4   NOX      506 non-null    float64\n",
      " 5   RM       506 non-null    float64\n",
      " 6   AGE      506 non-null    float64\n",
      " 7   DIS      506 non-null    float64\n",
      " 8   RAD      506 non-null    float64\n",
      " 9   TAX      506 non-null    float64\n",
      " 10  PTRATIO  506 non-null    float64\n",
      " 11  B        506 non-null    float64\n",
      " 12  LSTAT    506 non-null    float64\n",
      "dtypes: float64(13)\n",
      "memory usage: 51.5 KB\n"
     ]
    }
   ],
   "source": [
    "X.info()"
   ]
  },
  {
   "cell_type": "code",
   "execution_count": 142,
   "id": "3b2bb61e",
   "metadata": {},
   "outputs": [],
   "source": [
    "from sklearn.model_selection import train_test_split\n",
    "X_train, X_test, y_train, y_test = train_test_split(X, y, test_size=0.2, random_state = 42)"
   ]
  },
  {
   "cell_type": "code",
   "execution_count": 143,
   "id": "533ee3e6",
   "metadata": {},
   "outputs": [],
   "source": [
    "from sklearn.manifold import TSNE\n",
    "from sklearn.preprocessing import StandardScaler"
   ]
  },
  {
   "cell_type": "code",
   "execution_count": 144,
   "id": "389ca7ef",
   "metadata": {},
   "outputs": [],
   "source": [
    "scaler = StandardScaler()"
   ]
  },
  {
   "cell_type": "code",
   "execution_count": 145,
   "id": "bb81ec44",
   "metadata": {},
   "outputs": [],
   "source": [
    "X_train_scaled = scaler.fit_transform(X_train)"
   ]
  },
  {
   "cell_type": "code",
   "execution_count": 146,
   "id": "f71e0bee",
   "metadata": {},
   "outputs": [],
   "source": [
    "X_test_scaled = scaler.transform(X_test)"
   ]
  },
  {
   "cell_type": "code",
   "execution_count": 147,
   "id": "bb07639f",
   "metadata": {},
   "outputs": [],
   "source": [
    "X_train_scaled = pd.DataFrame(X_train_scaled, columns=feature_names)\n"
   ]
  },
  {
   "cell_type": "code",
   "execution_count": 148,
   "id": "600d9b68",
   "metadata": {},
   "outputs": [],
   "source": [
    "X_test_scaled = pd.DataFrame(X_test_scaled, columns=feature_names)"
   ]
  },
  {
   "cell_type": "code",
   "execution_count": 149,
   "id": "b7643404",
   "metadata": {},
   "outputs": [],
   "source": [
    "tsne = TSNE(n_components=2,learning_rate=250,random_state=42)"
   ]
  },
  {
   "cell_type": "code",
   "execution_count": 150,
   "id": "91f9393b",
   "metadata": {},
   "outputs": [
    {
     "name": "stderr",
     "output_type": "stream",
     "text": [
      "c:\\users\\79263\\appdata\\local\\programs\\python\\python39\\lib\\site-packages\\sklearn\\manifold\\_t_sne.py:780: FutureWarning: The default initialization in TSNE will change from 'random' to 'pca' in 1.2.\n",
      "  warnings.warn(\n"
     ]
    }
   ],
   "source": [
    "X_train_tsne = tsne.fit_transform(X_train_scaled)"
   ]
  },
  {
   "cell_type": "code",
   "execution_count": 151,
   "id": "90cd86af",
   "metadata": {},
   "outputs": [
    {
     "data": {
      "text/plain": [
       "array([[ 1.81041489e+01,  2.91841412e+01],\n",
       "       [ 3.36446118e+00, -7.90966845e+00],\n",
       "       [-2.07167511e+01, -8.94725513e+00],\n",
       "       [ 2.76545868e+01,  2.66364594e+01],\n",
       "       [ 4.35941935e+00, -7.43922949e+00],\n",
       "       [-1.18708668e+01, -3.19696522e+00],\n",
       "       [-9.88421822e+00, -3.11915612e+00],\n",
       "       [-2.67814331e+01, -1.50311155e+01],\n",
       "       [ 2.85059834e+01,  2.74729290e+01],\n",
       "       [ 2.97867966e+01,  2.44989853e+01],\n",
       "       [-1.03291616e+01, -2.70374441e+00],\n",
       "       [-6.06545353e+00, -9.15262985e+00],\n",
       "       [-5.61790419e+00, -1.35841761e+01],\n",
       "       [ 2.86210976e+01,  2.46200790e+01],\n",
       "       [-7.11505461e+00, -1.45416355e+01],\n",
       "       [ 7.49843025e+00, -8.60527611e+00],\n",
       "       [ 1.22831607e+00, -5.80473423e+00],\n",
       "       [-2.18536625e+01, -8.58939934e+00],\n",
       "       [-1.68641014e+01, -1.03258257e+01],\n",
       "       [-1.86876888e+01, -6.71250486e+00],\n",
       "       [ 2.41089859e+01,  2.88961773e+01],\n",
       "       [-7.64432192e-01, -5.37148428e+00],\n",
       "       [-1.35651073e+01, -3.63450623e+00],\n",
       "       [-8.29061127e+00, -4.92048645e+00],\n",
       "       [-2.71355915e+01, -1.48728647e+01],\n",
       "       [-6.49560738e+00, -1.29633284e+01],\n",
       "       [-7.80653834e-01,  8.48422623e+00],\n",
       "       [-8.23790169e+00, -1.67715759e+01],\n",
       "       [ 1.02396154e+01,  2.49531388e+00],\n",
       "       [-1.44194956e+01, -5.83281469e+00],\n",
       "       [ 6.59169865e+00, -6.84363413e+00],\n",
       "       [ 6.11494720e-01, -3.45529342e+00],\n",
       "       [ 4.87161779e+00,  7.60481977e+00],\n",
       "       [ 2.75124741e+01,  2.43863945e+01],\n",
       "       [-9.24988365e+00, -3.58404541e+00],\n",
       "       [-2.80623360e+01, -1.33833494e+01],\n",
       "       [-2.61315136e+01, -1.14090748e+01],\n",
       "       [ 7.12364292e+00, -7.30448866e+00],\n",
       "       [ 6.10535336e+00, -7.53799438e+00],\n",
       "       [-2.67889137e+01, -1.25255690e+01],\n",
       "       [-2.58424721e+01, -1.36566534e+01],\n",
       "       [-6.31812096e+00,  7.72002172e+00],\n",
       "       [ 2.11490955e+01,  2.90646725e+01],\n",
       "       [-2.17635775e+00, -1.05469990e+01],\n",
       "       [-1.36021125e+00,  8.78164196e+00],\n",
       "       [ 1.54267063e+01,  2.61428261e+01],\n",
       "       [ 7.94493771e+00, -7.17945623e+00],\n",
       "       [-6.24876261e+00, -1.66164227e+01],\n",
       "       [ 2.84456081e+01,  2.49979973e+01],\n",
       "       [ 1.52017212e+01,  2.53324032e+01],\n",
       "       [-1.01928596e+01, -9.24056721e+00],\n",
       "       [-4.87592697e-01, -5.43063164e+00],\n",
       "       [-1.14662485e+01, -5.83899069e+00],\n",
       "       [-8.98072815e+00, -2.50357199e+00],\n",
       "       [ 1.75200157e+01,  2.27936382e+01],\n",
       "       [ 1.32304840e+01,  2.33310318e+01],\n",
       "       [-1.04347925e+01, -9.86471748e+00],\n",
       "       [ 2.28518238e+01,  2.92933807e+01],\n",
       "       [-6.03834295e+00, -8.58561134e+00],\n",
       "       [-1.68815708e+01, -1.00389357e+01],\n",
       "       [ 3.03158426e+00, -6.15901995e+00],\n",
       "       [-7.91306353e+00, -5.49438095e+00],\n",
       "       [-7.30902135e-01, -1.70048351e+01],\n",
       "       [ 5.55774260e+00, -6.00540352e+00],\n",
       "       [-3.55710483e+00, -1.87745132e+01],\n",
       "       [ 1.67537670e+01,  2.49018230e+01],\n",
       "       [ 6.71109486e+00, -7.77947044e+00],\n",
       "       [ 4.01282102e-01, -1.20771294e+01],\n",
       "       [ 1.29516954e+01,  2.72212529e+00],\n",
       "       [ 6.46699905e+00, -4.86079597e+00],\n",
       "       [-9.09938335e+00, -5.01965857e+00],\n",
       "       [ 1.46559060e+00,  2.28546238e+00],\n",
       "       [ 1.54331093e+01,  2.19151516e+01],\n",
       "       [-3.12557817e-02, -4.33443403e+00],\n",
       "       [-7.11739123e-01, -5.86892366e+00],\n",
       "       [-8.74381161e+00, -1.13931313e+01],\n",
       "       [-2.51407051e+01, -9.80594254e+00],\n",
       "       [-1.17112837e+01, -1.10541859e+01],\n",
       "       [ 5.26972818e+00,  7.63346338e+00],\n",
       "       [ 1.82023277e+01,  3.07718468e+01],\n",
       "       [ 1.68728580e+01,  2.88935566e+01],\n",
       "       [ 8.71756172e+00,  2.13306770e+01],\n",
       "       [-1.53884506e+01, -1.71819725e+01],\n",
       "       [-5.09568739e+00,  6.36334133e+00],\n",
       "       [ 2.81606197e+01,  2.60639458e+01],\n",
       "       [ 1.41017170e+01,  1.63289535e+00],\n",
       "       [ 8.10303783e+00,  2.02791481e+01],\n",
       "       [-1.67411442e+01, -6.48489380e+00],\n",
       "       [ 1.36733770e+01,  2.45233040e+01],\n",
       "       [ 2.18448639e+00,  3.63109589e+00],\n",
       "       [ 1.22855222e+00, -4.84577417e+00],\n",
       "       [ 1.72164116e+01,  2.55087833e+01],\n",
       "       [ 1.93003864e+01,  2.80641346e+01],\n",
       "       [-2.63006039e+01, -1.12133579e+01],\n",
       "       [-1.90238762e+01, -6.66374874e+00],\n",
       "       [ 7.20830536e+00, -5.45062160e+00],\n",
       "       [ 1.42174978e+01,  2.60381012e+01],\n",
       "       [ 3.50262761e+00,  7.73514462e+00],\n",
       "       [-2.26979518e+00, -1.06432772e+01],\n",
       "       [-1.43394506e+00,  8.90888786e+00],\n",
       "       [-5.27328444e+00,  6.37833595e+00],\n",
       "       [-1.21767187e+01, -1.27157812e+01],\n",
       "       [-1.39653502e+01, -9.95910358e+00],\n",
       "       [-1.73150425e+01, -8.67310810e+00],\n",
       "       [ 2.04835796e+00,  4.14044237e+00],\n",
       "       [-3.08651900e+00,  6.38005257e+00],\n",
       "       [-2.83258820e+01, -1.41950321e+01],\n",
       "       [-5.98529530e+00, -1.42877674e+01],\n",
       "       [-1.25040045e+01, -4.18343592e+00],\n",
       "       [-3.77613401e+00, -6.82787037e+00],\n",
       "       [ 2.82744389e+01,  2.55899086e+01],\n",
       "       [-2.01173859e+01, -5.36454821e+00],\n",
       "       [ 1.62136540e-01, -4.98759413e+00],\n",
       "       [-2.85169392e+01, -1.29098749e+01],\n",
       "       [-2.24465504e+01, -8.95863533e+00],\n",
       "       [ 1.63662701e+01,  2.02982769e+01],\n",
       "       [ 8.40689373e+00,  2.11025658e+01],\n",
       "       [ 1.96711903e+01,  2.85768604e+01],\n",
       "       [-9.46353149e+00, -1.48867741e+01],\n",
       "       [-2.68730593e+00, -1.85736122e+01],\n",
       "       [-6.06021070e+00, -1.42333498e+01],\n",
       "       [ 1.95397453e+01,  3.00328617e+01],\n",
       "       [ 1.61156178e+01,  2.42216587e+01],\n",
       "       [-5.36694002e+00, -6.37096882e+00],\n",
       "       [-2.88809185e+01, -1.14621496e+01],\n",
       "       [ 1.15850048e+01,  9.18222487e-01],\n",
       "       [ 1.95519581e+01,  2.35038280e+01],\n",
       "       [-1.64943256e+01, -9.97857571e+00],\n",
       "       [-2.43900471e+01, -1.23839121e+01],\n",
       "       [ 1.88962650e+01,  2.72924061e+01],\n",
       "       [-1.68195038e+01, -8.80131721e+00],\n",
       "       [-9.03100610e-01, -6.78629923e+00],\n",
       "       [-7.57913017e+00, -1.28505459e+01],\n",
       "       [-1.69981432e+00, -1.78792095e+01],\n",
       "       [-1.67229557e+01, -1.29029961e+01],\n",
       "       [ 7.37575531e+00,  1.97421055e+01],\n",
       "       [ 5.11640072e+00, -3.32344937e+00],\n",
       "       [-2.35738449e+01, -1.01150675e+01],\n",
       "       [ 2.51132154e+00,  2.95690608e+00],\n",
       "       [ 4.11202478e+00,  5.96121359e+00],\n",
       "       [-5.35148478e+00, -1.04899702e+01],\n",
       "       [ 1.64801350e+01,  2.75560322e+01],\n",
       "       [-5.83554649e+00, -7.84973526e+00],\n",
       "       [-2.86722779e+00, -6.99045181e+00],\n",
       "       [ 4.12975580e-01, -1.20824375e+01],\n",
       "       [ 1.96335030e+01,  3.08108387e+01],\n",
       "       [ 6.76014185e+00, -5.45037794e+00],\n",
       "       [-1.29979458e+01, -1.05308256e+01],\n",
       "       [-9.77973366e+00, -4.91970253e+00],\n",
       "       [-2.82289267e+00, -4.81193495e+00],\n",
       "       [ 2.15718460e+00,  4.46437645e+00],\n",
       "       [ 1.47994041e+01,  2.81896076e+01],\n",
       "       [-2.77330456e+01, -1.21600256e+01],\n",
       "       [-1.62503872e+01, -2.76483560e+00],\n",
       "       [-2.87344685e+01, -1.12879629e+01],\n",
       "       [ 1.55746479e+01,  2.69004765e+01],\n",
       "       [ 3.09686422e+00,  7.23820925e+00],\n",
       "       [ 1.57453928e+01,  2.55885983e+01],\n",
       "       [ 5.24247646e+00,  7.65123796e+00],\n",
       "       [ 2.87539444e+01,  2.56033592e+01],\n",
       "       [-2.46206017e+01, -1.19874668e+01],\n",
       "       [ 1.01297960e+01,  2.35454583e+00],\n",
       "       [ 1.40702820e+01,  2.35623097e+00],\n",
       "       [-6.51708555e+00, -8.78507042e+00],\n",
       "       [ 5.00034523e+00,  7.24978733e+00],\n",
       "       [-2.16977863e+01, -1.00679636e+01],\n",
       "       [-1.33194523e+01, -1.22669697e+01],\n",
       "       [-7.39524221e+00, -1.53448734e+01],\n",
       "       [-2.72520580e+01, -1.60603905e+01],\n",
       "       [ 9.65379906e+00,  1.74462569e+00],\n",
       "       [-6.19919157e+00, -1.16841927e+01],\n",
       "       [-2.92763233e+01, -1.23203650e+01],\n",
       "       [-1.75121059e+01, -7.96954489e+00],\n",
       "       [ 1.66681976e+01,  2.05838795e+01],\n",
       "       [-2.21089878e+01, -9.99192429e+00],\n",
       "       [-2.47868328e+01, -1.62733555e+01],\n",
       "       [ 2.48724251e+01,  2.85008945e+01],\n",
       "       [ 1.67540913e+01,  2.98343410e+01],\n",
       "       [-2.60541649e+01, -1.55592823e+01],\n",
       "       [ 9.38469410e+00,  1.49045622e+00],\n",
       "       [-1.18856077e+01, -1.21588697e+01],\n",
       "       [-4.87838745e+00, -1.12702579e+01],\n",
       "       [ 1.84555874e+01,  2.42005386e+01],\n",
       "       [-4.75672483e+00,  7.13691521e+00],\n",
       "       [ 1.24282894e+01,  1.08765697e+00],\n",
       "       [ 2.66300373e+01,  2.58657475e+01],\n",
       "       [-3.00090065e+01, -1.50258636e+01],\n",
       "       [-1.99675846e+01, -9.30580902e+00],\n",
       "       [ 2.30745220e+01,  2.93144226e+01],\n",
       "       [ 1.56911783e+01,  2.11128368e+01],\n",
       "       [ 8.52214909e+00,  2.10730057e+01],\n",
       "       [-1.55719376e+01, -1.28235769e+01],\n",
       "       [-1.59917421e+01, -3.25956511e+00],\n",
       "       [ 7.95029497e+00,  2.01766605e+01],\n",
       "       [ 2.90031834e+01,  2.80859680e+01],\n",
       "       [ 5.37789524e-01, -3.64155555e+00],\n",
       "       [-7.85887194e+00, -1.25284176e+01],\n",
       "       [-1.51426888e+00, -2.89691091e+00],\n",
       "       [-1.40354338e+01, -7.24285603e+00],\n",
       "       [-1.04230042e+01, -2.63914871e+00],\n",
       "       [ 1.64316616e+01,  2.11121120e+01],\n",
       "       [ 2.73684311e+01,  2.61105309e+01],\n",
       "       [-6.87682199e+00, -1.60061359e+01],\n",
       "       [-1.98804939e+00, -7.88406372e+00],\n",
       "       [ 3.14623737e+00,  3.26964378e+00],\n",
       "       [ 1.20216074e+01,  6.15797460e-01],\n",
       "       [-2.84760609e+01, -1.11150818e+01],\n",
       "       [-2.25701523e+00, -1.88444366e+01],\n",
       "       [-6.82869816e+00, -1.62943249e+01],\n",
       "       [ 1.34128883e-01, -3.85882664e+00],\n",
       "       [ 9.08610153e+00,  1.45604050e+00],\n",
       "       [-2.52014694e+01, -1.56297960e+01],\n",
       "       [-6.32842827e+00, -1.60191479e+01],\n",
       "       [ 1.99906616e+01,  3.03151703e+01],\n",
       "       [-7.64673948e+00, -4.04090214e+00],\n",
       "       [ 1.23696709e+01,  8.97089481e-01],\n",
       "       [-2.55492935e+01, -1.20156479e+01],\n",
       "       [ 2.92246265e+01,  2.75285320e+01],\n",
       "       [ 7.11750603e+00, -5.06018019e+00],\n",
       "       [ 1.89428558e+01,  3.11904640e+01],\n",
       "       [ 1.41546679e+01,  2.65301895e+01],\n",
       "       [ 1.21805887e+01,  3.25656354e-01],\n",
       "       [ 2.23700466e+01,  2.60020866e+01],\n",
       "       [-1.16435976e+01, -5.90651512e+00],\n",
       "       [ 1.21455336e+00, -7.06580353e+00],\n",
       "       [-2.68443089e+01, -1.33253260e+01],\n",
       "       [-3.09316158e+01, -1.08095636e+01],\n",
       "       [-8.83360672e+00, -9.94853020e+00],\n",
       "       [-2.00811710e+01, -1.07241840e+01],\n",
       "       [-8.16831493e+00, -1.48312607e+01],\n",
       "       [ 2.79149227e+01,  2.73492756e+01],\n",
       "       [ 3.92629290e+00,  5.44853497e+00],\n",
       "       [-1.67641716e+01, -1.29079514e+01],\n",
       "       [-5.27872753e+00, -6.54114151e+00],\n",
       "       [ 5.83903027e+00, -6.37181807e+00],\n",
       "       [ 2.71266913e+00,  4.10810995e+00],\n",
       "       [-1.35595393e+00,  9.20712376e+00],\n",
       "       [ 1.60284500e+01,  2.62920017e+01],\n",
       "       [-2.05925293e+01, -1.34700050e+01],\n",
       "       [-5.90512562e+00,  7.49729967e+00],\n",
       "       [-8.01139355e+00, -1.07550955e+01],\n",
       "       [-1.89343014e+01, -1.07900429e+01],\n",
       "       [-2.12085381e+01, -1.07647324e+01],\n",
       "       [ 1.73982220e+01,  2.67093849e+01],\n",
       "       [ 1.70819645e+01,  2.86301861e+01],\n",
       "       [-5.53532553e+00, -1.22355938e+01],\n",
       "       [-1.36691847e+01, -3.14230776e+00],\n",
       "       [ 1.89804325e+01,  2.80585842e+01],\n",
       "       [ 1.52792444e+01,  2.46492195e+01],\n",
       "       [-8.28738117e+00, -6.37336683e+00],\n",
       "       [-1.49721336e+01, -1.75728378e+01],\n",
       "       [-2.63023357e+01, -1.46863432e+01],\n",
       "       [ 2.94975986e+01,  2.68070412e+01],\n",
       "       [-1.03627720e+01, -9.98773098e+00],\n",
       "       [-2.93833275e+01, -1.30866375e+01],\n",
       "       [ 1.29320717e+01,  2.68503418e+01],\n",
       "       [ 5.74308252e+00, -4.67726326e+00],\n",
       "       [-6.21579742e+00, -1.56173859e+01],\n",
       "       [ 2.93698425e+01,  2.50183506e+01],\n",
       "       [-9.66965103e+00, -5.94509602e+00],\n",
       "       [ 2.66972885e+01,  2.52543182e+01],\n",
       "       [ 2.94393253e+00,  3.58906913e+00],\n",
       "       [-8.87685871e+00, -1.48033390e+01],\n",
       "       [-2.98903294e+01, -1.51768951e+01],\n",
       "       [-9.06499481e+00, -6.09517670e+00],\n",
       "       [-1.64279270e+01, -1.06289301e+01],\n",
       "       [-4.28057098e+00, -3.69767523e+00],\n",
       "       [ 8.93731499e+00, -8.86530781e+00],\n",
       "       [-3.83072567e+00, -1.83086090e+01],\n",
       "       [-8.96265602e+00, -4.31075430e+00],\n",
       "       [-2.85710468e+01, -1.40524626e+01],\n",
       "       [ 1.43742228e+01,  2.54051018e+01],\n",
       "       [ 7.72003698e+00, -8.49086857e+00],\n",
       "       [ 1.58446960e+01,  2.47807522e+01],\n",
       "       [-4.52755404e+00, -7.94930887e+00],\n",
       "       [-2.18121958e+00, -1.80736008e+01],\n",
       "       [-2.40334454e+01, -1.23949938e+01],\n",
       "       [-3.15869617e+00,  6.49298048e+00],\n",
       "       [ 2.87958393e+01,  2.63561554e+01],\n",
       "       [ 1.20763035e+01,  1.36762869e+00],\n",
       "       [-1.59790373e+01, -9.46676540e+00],\n",
       "       [ 1.14210253e+01,  4.46745604e-01],\n",
       "       [ 1.13794737e+01,  1.30679369e-01],\n",
       "       [ 1.46346779e+01,  2.10578327e+01],\n",
       "       [ 8.12288821e-01, -1.14501324e+01],\n",
       "       [-1.10176573e+01, -3.48642087e+00],\n",
       "       [ 1.72684860e+01,  2.20053654e+01],\n",
       "       [-1.93507271e+01, -1.31003237e+01],\n",
       "       [-2.74518032e+01, -1.18006277e+01],\n",
       "       [ 5.42838240e+00, -7.11871624e+00],\n",
       "       [ 2.82570767e+00,  7.39765882e+00],\n",
       "       [-2.98727627e+01, -1.47760868e+01],\n",
       "       [ 1.80601845e+01,  2.70192013e+01],\n",
       "       [ 1.71407051e+01,  2.08961163e+01],\n",
       "       [ 1.85365429e+01,  2.44491711e+01],\n",
       "       [-5.33417034e+00,  7.45107555e+00],\n",
       "       [-2.34069195e+01, -7.57675934e+00],\n",
       "       [ 1.65363922e+01,  2.84338379e+01],\n",
       "       [ 5.08406544e+00, -3.47157192e+00],\n",
       "       [-7.68448400e+00, -3.60126591e+00],\n",
       "       [-5.45775032e+00,  6.46280241e+00],\n",
       "       [-3.28626561e+00, -4.34549570e+00],\n",
       "       [-6.16233349e+00,  7.14654493e+00],\n",
       "       [-1.60903969e+01, -2.72902060e+00],\n",
       "       [ 1.48137112e+01,  2.36089973e+01],\n",
       "       [-1.87992783e+01, -6.43504286e+00],\n",
       "       [ 1.34236383e+00, -6.31086206e+00],\n",
       "       [ 1.57668390e+01,  2.25055695e+01],\n",
       "       [-2.32868633e+01, -8.82010651e+00],\n",
       "       [-2.05993309e+01, -1.34966106e+01],\n",
       "       [-6.33822107e+00,  6.79874563e+00],\n",
       "       [-2.63778896e+01, -1.31103249e+01],\n",
       "       [ 1.00278795e+00,  1.78910756e+00],\n",
       "       [-1.35578184e+01, -3.68287659e+00],\n",
       "       [-1.35116017e+00, -8.39815712e+00],\n",
       "       [ 1.68379593e+01,  2.64650784e+01],\n",
       "       [-2.49603653e+01, -1.00138187e+01],\n",
       "       [-2.32573247e+00, -6.39012289e+00],\n",
       "       [-1.57850456e+00, -1.85093651e+01],\n",
       "       [ 7.91994953e+00, -5.51314068e+00],\n",
       "       [-2.02882614e+01, -8.39458656e+00],\n",
       "       [ 1.70092487e+01,  2.81867828e+01],\n",
       "       [-7.36505985e+00, -9.50436020e+00],\n",
       "       [ 1.39266195e+01,  2.57305260e+01],\n",
       "       [ 1.32097845e+01,  2.61394835e+00],\n",
       "       [-4.81757593e+00, -3.66888690e+00],\n",
       "       [ 2.94413414e+01,  2.62198124e+01],\n",
       "       [-1.39695959e+01, -1.04174623e+01],\n",
       "       [-1.05494156e+01, -5.22833729e+00],\n",
       "       [ 8.47421169e+00, -9.09937763e+00],\n",
       "       [ 2.79125633e+01,  2.48222370e+01],\n",
       "       [-2.30239582e+00, -1.82097054e+01],\n",
       "       [ 2.53892117e+01,  2.82344666e+01],\n",
       "       [ 1.96316738e+01,  2.44610538e+01],\n",
       "       [-6.23422956e+00, -1.01168919e+01],\n",
       "       [-8.53807068e+00, -3.76970243e+00],\n",
       "       [ 1.71752796e+01,  2.39212570e+01],\n",
       "       [-2.10235958e+01, -7.95425844e+00],\n",
       "       [-1.62602539e+01, -7.79124308e+00],\n",
       "       [-2.05239654e+00, -1.86254616e+01],\n",
       "       [-1.92702541e+01, -1.09464884e+01],\n",
       "       [ 3.56147480e+00, -7.91252089e+00],\n",
       "       [-2.51431322e+00, -5.53828192e+00],\n",
       "       [-6.39780283e+00, -1.26236782e+01],\n",
       "       [ 1.90179062e+01,  3.01802979e+01],\n",
       "       [-1.48361464e+01, -1.71503868e+01],\n",
       "       [ 8.82426560e-01,  1.66401541e+00],\n",
       "       [-1.43797417e+01, -6.00134325e+00],\n",
       "       [ 1.04738820e+00, -5.49150324e+00],\n",
       "       [ 1.28759413e+01,  1.69860069e-02],\n",
       "       [-1.12139044e+01, -1.31462994e+01],\n",
       "       [ 1.60663643e+01,  2.21799812e+01],\n",
       "       [-3.48345900e+00, -5.94742823e+00],\n",
       "       [-2.15514126e+01, -7.99875975e+00],\n",
       "       [-2.41029415e+01, -1.61946507e+01],\n",
       "       [ 8.85013580e+00,  2.11515541e+01],\n",
       "       [-1.91291618e+01, -1.02620068e+01],\n",
       "       [ 1.44833994e+01,  2.41352406e+01],\n",
       "       [-4.85464239e+00, -9.01550770e+00],\n",
       "       [ 2.87805290e+01,  2.67376232e+01],\n",
       "       [-2.48716087e+01, -8.81562901e+00],\n",
       "       [ 4.42273903e+00, -4.42841053e+00],\n",
       "       [ 1.40603952e+01,  2.30978012e+01],\n",
       "       [-2.46643162e+01, -8.42492390e+00],\n",
       "       [ 2.25449371e+00,  3.32505631e+00],\n",
       "       [-1.78650417e+01, -7.60362005e+00],\n",
       "       [-3.50484085e+00, -2.47922611e+00],\n",
       "       [-2.39835300e+01, -1.11145573e+01],\n",
       "       [-4.57918739e+00, -7.98846626e+00],\n",
       "       [-1.95280056e+01, -6.00175858e+00],\n",
       "       [ 6.36805868e+00, -7.10576344e+00],\n",
       "       [-2.17238021e+00, -7.43813658e+00],\n",
       "       [ 1.51614246e+01,  2.38355026e+01],\n",
       "       [-3.62494612e+00,  7.44685793e+00],\n",
       "       [-1.52093792e+01, -1.72023964e+01],\n",
       "       [ 1.52026062e+01,  2.62078781e+01],\n",
       "       [-2.46398449e+01, -1.00831594e+01],\n",
       "       [ 1.83387108e+01,  2.99846020e+01],\n",
       "       [-1.55773668e+01, -3.11267829e+00],\n",
       "       [ 2.13009109e+01,  2.80815392e+01],\n",
       "       [-2.30570087e+01, -1.14889126e+01],\n",
       "       [-3.92073131e+00, -1.87809849e+01],\n",
       "       [-2.32540870e+00, -8.43442345e+00],\n",
       "       [ 4.48543644e+00,  6.94687939e+00],\n",
       "       [ 1.14096165e+01, -2.00331464e-01],\n",
       "       [ 4.07998848e+00,  6.35688496e+00],\n",
       "       [ 1.38501358e+01,  2.37565689e+01],\n",
       "       [-7.82999897e+00, -1.37634001e+01],\n",
       "       [ 8.70512772e+00,  2.05835285e+01],\n",
       "       [-7.42202902e+00, -8.20804024e+00],\n",
       "       [ 1.32207966e+01,  2.55520821e+01],\n",
       "       [-1.43965979e+01, -6.21389103e+00],\n",
       "       [ 1.08431518e+00, -8.08101273e+00],\n",
       "       [ 2.74260826e+01,  2.55114384e+01],\n",
       "       [ 9.27652073e+00,  1.46518362e+00],\n",
       "       [ 4.41071320e+00, -4.43715572e+00],\n",
       "       [ 8.31849480e+00, -7.28795290e+00],\n",
       "       [-2.44187336e+01, -8.90933800e+00],\n",
       "       [-1.21542063e+01, -4.58630991e+00],\n",
       "       [ 8.13145828e+00, -5.76387596e+00],\n",
       "       [-1.07432861e+01, -6.76788521e+00],\n",
       "       [-2.72033539e+01, -1.43651733e+01],\n",
       "       [ 2.96647205e+01,  2.58955994e+01],\n",
       "       [ 8.58687592e+00, -9.99808407e+00]], dtype=float32)"
      ]
     },
     "execution_count": 151,
     "metadata": {},
     "output_type": "execute_result"
    }
   ],
   "source": [
    "X_train_tsne"
   ]
  },
  {
   "cell_type": "code",
   "execution_count": 152,
   "id": "10b32045",
   "metadata": {},
   "outputs": [
    {
     "data": {
      "text/plain": [
       "(404, 2)"
      ]
     },
     "execution_count": 152,
     "metadata": {},
     "output_type": "execute_result"
    }
   ],
   "source": [
    "X_train_tsne.shape"
   ]
  },
  {
   "cell_type": "code",
   "execution_count": 153,
   "id": "b92d3cde",
   "metadata": {},
   "outputs": [
    {
     "data": {
      "text/plain": [
       "<matplotlib.collections.PathCollection at 0x2ea5a73ba00>"
      ]
     },
     "execution_count": 153,
     "metadata": {},
     "output_type": "execute_result"
    },
    {
     "data": {
      "image/png": "[encoded data removed]",
      "text/plain": [
       "<Figure size 432x288 with 1 Axes>"
      ]
     },
     "metadata": {
      "needs_background": "light"
     },
     "output_type": "display_data"
    }
   ],
   "source": [
    "plt.scatter(X_train_tsne[:,0], X_train_tsne[:,1])"
   ]
  },
  {
   "cell_type": "markdown",
   "id": "8e45d6f4",
   "metadata": {},
   "source": [
    "# Задание 2"
   ]
  },
  {
   "cell_type": "markdown",
   "id": "1a821952",
   "metadata": {},
   "source": [
    "С помощью KMeans разбейте данные из тренировочного набора на 3 кластера,\n",
    "используйте все признаки из датафрейма X_train.\n",
    "Параметр max_iter должен быть равен 100, random_state сделайте равным 42.\n",
    "Постройте еще раз диаграмму рассеяния на данных, полученных с помощью TSNE,\n",
    "и раскрасьте точки из разных кластеров разными цветами.\n",
    "Вычислите средние значения price и CRIM в разных кластерах.\n"
   ]
  },
  {
   "cell_type": "code",
   "execution_count": 154,
   "id": "efe85d3b",
   "metadata": {},
   "outputs": [],
   "source": [
    "from sklearn.cluster import KMeans"
   ]
  },
  {
   "cell_type": "code",
   "execution_count": 155,
   "id": "e160f948",
   "metadata": {},
   "outputs": [],
   "source": [
    "kmeans = KMeans(n_clusters = 3,max_iter=100,random_state=42)\n",
    "\n",
    "labels_train = kmeans.fit_predict(X_train_scaled)"
   ]
  },
  {
   "cell_type": "code",
   "execution_count": 156,
   "id": "20b31065",
   "metadata": {},
   "outputs": [
    {
     "data": {
      "text/plain": [
       "0    191\n",
       "1    128\n",
       "2     85\n",
       "dtype: int64"
      ]
     },
     "execution_count": 156,
     "metadata": {},
     "output_type": "execute_result"
    }
   ],
   "source": [
    "pd.value_counts(labels_train)"
   ]
  },
  {
   "cell_type": "code",
   "execution_count": 157,
   "id": "59d79317",
   "metadata": {},
   "outputs": [
    {
     "data": {
      "image/png": "[encoded data removed]",
      "text/plain": [
       "<Figure size 432x288 with 1 Axes>"
      ]
     },
     "metadata": {
      "needs_background": "light"
     },
     "output_type": "display_data"
    }
   ],
   "source": [
    "plt.scatter(X_train_tsne[:,0], X_train_tsne[:,1], c = labels_train)\n",
    "plt.text(-30,-5,'Кластер 0')\n",
    "plt.text(-10,10,'Кластер 1')\n",
    "plt.text(5,30,'Кластер 2')\n",
    "plt.show()"
   ]
  },
  {
   "cell_type": "code",
   "execution_count": 158,
   "id": "c56c832d",
   "metadata": {},
   "outputs": [
    {
     "data": {
      "text/plain": [
       "price    24.971204\n",
       "dtype: float64"
      ]
     },
     "execution_count": 158,
     "metadata": {},
     "output_type": "execute_result"
    }
   ],
   "source": [
    "y_train[labels_train==0].mean()"
   ]
  },
  {
   "cell_type": "code",
   "execution_count": 159,
   "id": "f5659755",
   "metadata": {},
   "outputs": [
    {
     "data": {
      "text/plain": [
       "price    16.179688\n",
       "dtype: float64"
      ]
     },
     "execution_count": 159,
     "metadata": {},
     "output_type": "execute_result"
    }
   ],
   "source": [
    "y_train[labels_train==1].mean()"
   ]
  },
  {
   "cell_type": "code",
   "execution_count": 160,
   "id": "5842374b",
   "metadata": {},
   "outputs": [
    {
     "data": {
      "text/plain": [
       "price    27.874118\n",
       "dtype: float64"
      ]
     },
     "execution_count": 160,
     "metadata": {},
     "output_type": "execute_result"
    }
   ],
   "source": [
    "y_train[labels_train==2].mean()"
   ]
  },
  {
   "cell_type": "code",
   "execution_count": 161,
   "id": "8adc4c5a",
   "metadata": {},
   "outputs": [
    {
     "data": {
      "text/plain": [
       "0.42098554973821994"
      ]
     },
     "execution_count": 161,
     "metadata": {},
     "output_type": "execute_result"
    }
   ],
   "source": [
    "X_train.loc[labels_train==0, 'CRIM'].mean()"
   ]
  },
  {
   "cell_type": "code",
   "execution_count": 162,
   "id": "6c538a96",
   "metadata": {},
   "outputs": [
    {
     "data": {
      "text/plain": [
       "10.7152190625"
      ]
     },
     "execution_count": 162,
     "metadata": {},
     "output_type": "execute_result"
    }
   ],
   "source": [
    "X_train.loc[labels_train==1, 'CRIM'].mean()"
   ]
  },
  {
   "cell_type": "code",
   "execution_count": 163,
   "id": "3cdddb70",
   "metadata": {},
   "outputs": [
    {
     "data": {
      "text/plain": [
       "0.0721184705882353"
      ]
     },
     "execution_count": 163,
     "metadata": {},
     "output_type": "execute_result"
    }
   ],
   "source": [
    "X_train.loc[labels_train==2, 'CRIM'].mean()"
   ]
  },
  {
   "cell_type": "markdown",
   "id": "00f169f9",
   "metadata": {},
   "source": [
    "# Задание 3"
   ]
  },
  {
   "cell_type": "markdown",
   "id": "73b537be",
   "metadata": {},
   "source": [
    "Примените модель KMeans, построенную в предыдущем задании,\n",
    "к данным из тестового набора.\n",
    "Вычислите средние значения price и CRIM в разных кластерах на тестовых данных.\n"
   ]
  },
  {
   "cell_type": "code",
   "execution_count": 164,
   "id": "e51d2dec",
   "metadata": {},
   "outputs": [],
   "source": [
    "#kmeans = KMeans(n_clusters = 3,max_iter=100,random_state=42)\n",
    "\n",
    "labels_test =  kmeans.predict(X_test_scaled)"
   ]
  },
  {
   "cell_type": "code",
   "execution_count": 165,
   "id": "7d6971bd",
   "metadata": {},
   "outputs": [
    {
     "data": {
      "text/plain": [
       "0    191\n",
       "1    128\n",
       "2     85\n",
       "dtype: int64"
      ]
     },
     "execution_count": 165,
     "metadata": {},
     "output_type": "execute_result"
    }
   ],
   "source": [
    "pd.value_counts(labels_train)"
   ]
  },
  {
   "cell_type": "code",
   "execution_count": 166,
   "id": "4c54b6e8",
   "metadata": {},
   "outputs": [
    {
     "name": "stderr",
     "output_type": "stream",
     "text": [
      "c:\\users\\79263\\appdata\\local\\programs\\python\\python39\\lib\\site-packages\\sklearn\\manifold\\_t_sne.py:780: FutureWarning: The default initialization in TSNE will change from 'random' to 'pca' in 1.2.\n",
      "  warnings.warn(\n"
     ]
    }
   ],
   "source": [
    "X_test_tsne = tsne.fit_transform(X_test_scaled)"
   ]
  },
  {
   "cell_type": "code",
   "execution_count": 179,
   "id": "e18d79ce",
   "metadata": {},
   "outputs": [
    {
     "data": {
      "image/png": "[encoded data removed]",
      "text/plain": [
       "<Figure size 432x288 with 1 Axes>"
      ]
     },
     "metadata": {
      "needs_background": "light"
     },
     "output_type": "display_data"
    }
   ],
   "source": [
    "plt.scatter(X_test_tsne[:,0], X_test_tsne[:,1], c = labels_train_1)\n",
    "plt.text(-5,0,'Кластер 0')\n",
    "plt.text(0,5,'Кластер 1')\n",
    "plt.text(6,3,'Кластер 2')\n",
    "plt.show()"
   ]
  },
  {
   "cell_type": "code",
   "execution_count": 180,
   "id": "a966c243",
   "metadata": {},
   "outputs": [
    {
     "data": {
      "text/plain": [
       "price    21.860784\n",
       "dtype: float64"
      ]
     },
     "execution_count": 180,
     "metadata": {},
     "output_type": "execute_result"
    }
   ],
   "source": [
    "y_test[labels_test==0].mean()"
   ]
  },
  {
   "cell_type": "code",
   "execution_count": 181,
   "id": "30bb36eb",
   "metadata": {},
   "outputs": [
    {
     "data": {
      "text/plain": [
       "price    16.437143\n",
       "dtype: float64"
      ]
     },
     "execution_count": 181,
     "metadata": {},
     "output_type": "execute_result"
    }
   ],
   "source": [
    "y_test[labels_test==1].mean()"
   ]
  },
  {
   "cell_type": "code",
   "execution_count": 182,
   "id": "0bceb70a",
   "metadata": {},
   "outputs": [
    {
     "data": {
      "text/plain": [
       "price    31.35\n",
       "dtype: float64"
      ]
     },
     "execution_count": 182,
     "metadata": {},
     "output_type": "execute_result"
    }
   ],
   "source": [
    "y_test[labels_test==2].mean()"
   ]
  },
  {
   "cell_type": "code",
   "execution_count": 183,
   "id": "9a20eae9",
   "metadata": {},
   "outputs": [
    {
     "data": {
      "text/plain": [
       "0.2660788235294118"
      ]
     },
     "execution_count": 183,
     "metadata": {},
     "output_type": "execute_result"
    }
   ],
   "source": [
    "X_test.loc[labels_test==0, 'CRIM'].mean()"
   ]
  },
  {
   "cell_type": "code",
   "execution_count": 184,
   "id": "64aa5218",
   "metadata": {},
   "outputs": [
    {
     "data": {
      "text/plain": [
       "10.165531142857143"
      ]
     },
     "execution_count": 184,
     "metadata": {},
     "output_type": "execute_result"
    }
   ],
   "source": [
    "X_test.loc[labels_test==1, 'CRIM'].mean()"
   ]
  },
  {
   "cell_type": "code",
   "execution_count": 185,
   "id": "63b5fb15",
   "metadata": {},
   "outputs": [
    {
     "data": {
      "text/plain": [
       "0.06206"
      ]
     },
     "execution_count": 185,
     "metadata": {},
     "output_type": "execute_result"
    }
   ],
   "source": [
    "X_test.loc[labels_test==2, 'CRIM'].mean()"
   ]
  },
  {
   "cell_type": "code",
   "execution_count": null,
   "id": "3e6babfe",
   "metadata": {},
   "outputs": [],
   "source": []
  }
 ],
 "metadata": {
  "kernelspec": {
   "display_name": "Python 3 (ipykernel)",
   "language": "python",
   "name": "python3"
  },
  "language_info": {
   "codemirror_mode": {
    "name": "ipython",
    "version": 3
   },
   "file_extension": ".py",
   "mimetype": "text/x-python",
   "name": "python",
   "nbconvert_exporter": "python",
   "pygments_lexer": "ipython3",
   "version": "3.9.4"
  }
 },
 "nbformat": 4,
 "nbformat_minor": 5
}
