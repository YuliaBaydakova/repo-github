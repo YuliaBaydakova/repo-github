{
 "cells": [
  {
   "cell_type": "markdown",
   "id": "f71c2244",
   "metadata": {},
   "source": [
    "# Задача 1"
   ]
  },
  {
   "cell_type": "markdown",
   "id": "3d931d4d",
   "metadata": {},
   "source": [
    "Сгенерировать датасет при помощи sklearn.datasets.make_regression и обучить линейную модель при помощи градиентного спуска и стохастического градиентного спуска. Построить графики среднеквадратичной ошибки от числа итераций для обоих методов на одном рисунке, сделать выводы о разнице скорости сходимости каждого из методов."
   ]
  },
  {
   "cell_type": "code",
   "execution_count": 2,
   "id": "2e1aff39",
   "metadata": {},
   "outputs": [],
   "source": [
    "from sklearn import datasets\n",
    "import numpy as np\n",
    "import matplotlib.pyplot as plt\n"
   ]
  },
  {
   "cell_type": "code",
   "execution_count": 3,
   "id": "fa680569",
   "metadata": {},
   "outputs": [],
   "source": [
    "X_, y_, coef = datasets.make_regression(n_samples=1000, \n",
    "                                      n_features=2, \n",
    "                                      n_informative=2, \n",
    "                                      n_targets=1,\n",
    "                                      noise=5, \n",
    "                                      coef=True, \n",
    "                                      random_state=42)"
   ]
  },
  {
   "cell_type": "code",
   "execution_count": 5,
   "id": "883a3792",
   "metadata": {},
   "outputs": [
    {
     "data": {
      "text/plain": [
       "array([40.71064891,  6.60098441])"
      ]
     },
     "execution_count": 5,
     "metadata": {},
     "output_type": "execute_result"
    }
   ],
   "source": [
    "coef"
   ]
  },
  {
   "cell_type": "code",
   "execution_count": 6,
   "id": "34f5ffea",
   "metadata": {},
   "outputs": [],
   "source": [
    "def calc_mse(y, y_pred):\n",
    "    err = np.mean((y - y_pred)**2)\n",
    "    return err\n",
    "\n",
    "# Метод градиентного спуска\n",
    "def eval_GD(X, y, iterations, eta=1e-4):\n",
    "    np.random.seed(42)\n",
    "    w = np.random.randn(X.shape[1])\n",
    "    n = X.shape[0]\n",
    "    b = []\n",
    "    c = []\n",
    "    for i in range(1, iterations + 1):\n",
    "        y_pred = np.dot(X, w)\n",
    "        err = calc_mse(y, y_pred)\n",
    "        w -= eta * (1/n * 2 * np.dot(X.T, (y_pred - y)))\n",
    "        #if i % (iterations / 10) == 0:\n",
    "            #print(f'{i}: weights={w}, MSE={err:.3f}')\n",
    "        b.append(i)\n",
    "        c.append(err)\n",
    "        i+=1\n",
    "    return w, c, b"
   ]
  },
  {
   "cell_type": "code",
   "execution_count": 7,
   "id": "2793e347",
   "metadata": {},
   "outputs": [],
   "source": [
    "X = X_\n",
    "y = y_"
   ]
  },
  {
   "cell_type": "code",
   "execution_count": 8,
   "id": "a104c7fd",
   "metadata": {},
   "outputs": [],
   "source": [
    "w_gd_st = eval_GD(X, y, iterations=2500, eta=1e-3)[0]\n",
    "y_pred = np.dot(X, w_gd_st)\n",
    "err_st = calc_mse(y, y_pred)"
   ]
  },
  {
   "cell_type": "code",
   "execution_count": 9,
   "id": "c08b2a34",
   "metadata": {},
   "outputs": [],
   "source": [
    "# SGD - стохастический градиентный спуск\n",
    "def eval_SGD(X, y, iterations, eta=1e-4):\n",
    "    np.random.seed(42)\n",
    "    w = np.random.randn(X.shape[1]) # начальное приближение весов\n",
    "    n = X.shape[0] # число наблюдений\n",
    "    b = []\n",
    "    c = []\n",
    "    for i in range(1, iterations + 1):\n",
    "        err = calc_mse(y, np.dot(X, w))\n",
    "        # генерируем случайный индекс объекта выборки\n",
    "        ind = np.random.randint(n)\n",
    "        y_pred = np.dot(X[ind], w)\n",
    "        w -= eta * (2 * np.dot(X[ind].T, (y_pred - y[ind])))\n",
    "        b.append(i)\n",
    "        c.append(err)\n",
    "        #if i % (iterations / 10) == 0:\n",
    "            #print(f'{i}: weights={w}, MSE={err:.3f}')\n",
    "    return w, err, c, b\n",
    "        "
   ]
  },
  {
   "cell_type": "code",
   "execution_count": 10,
   "id": "4f9b9f49",
   "metadata": {},
   "outputs": [
    {
     "data": {
      "text/plain": [
       "(array([40.50993029,  6.4673205 ]), 24.358070477474925)"
      ]
     },
     "execution_count": 10,
     "metadata": {},
     "output_type": "execute_result"
    }
   ],
   "source": [
    "w_sgd_st = eval_SGD(X, y, iterations=2500, eta=1e-3)[0]\n",
    "y_pred = np.dot(X, w_gd_st)\n",
    "err_st = calc_mse(y, y_pred)\n",
    "w_sgd_st, err_st"
   ]
  },
  {
   "cell_type": "code",
   "execution_count": 11,
   "id": "b06e489d",
   "metadata": {},
   "outputs": [],
   "source": [
    "ris_1_x = eval_GD(X, y, iterations=2500, eta=1e-3)[1]\n",
    "ris_1_y = eval_GD(X, y, iterations=2500, eta=1e-3)[2]\n",
    "ris_2_x = eval_SGD(X, y, iterations=2500, eta=1e-3)[2]\n",
    "ris_2_y = eval_SGD(X, y, iterations=2500, eta=1e-3)[3]"
   ]
  },
  {
   "cell_type": "code",
   "execution_count": 12,
   "id": "6b996bed",
   "metadata": {},
   "outputs": [
    {
     "data": {
      "text/plain": [
       "[]"
      ]
     },
     "execution_count": 12,
     "metadata": {},
     "output_type": "execute_result"
    },
    {
     "data": {
      "image/png": "[encoded data removed]",
      "text/plain": [
       "<Figure size 864x288 with 2 Axes>"
      ]
     },
     "metadata": {
      "needs_background": "light"
     },
     "output_type": "display_data"
    }
   ],
   "source": [
    "fig = plt.figure(figsize=(12, 4))\n",
    "\n",
    "plt.subplot(1, 2, 1)\n",
    "plt.plot(ris_1_x,ris_1_y)\n",
    "plt.xlabel('кол-во итераций')\n",
    "plt.ylabel('MSE')\n",
    "plt.title('Метод градиентного спуска')\n",
    "\n",
    "plt.subplot(1, 2, 2)\n",
    "plt.plot(ris_2_x,ris_2_y)\n",
    "plt.xlabel('кол-во итераций')\n",
    "plt.ylabel('MSE')\n",
    "plt.title('Метод стохастичекого градиентного спуска')\n",
    "plt.plot()"
   ]
  },
  {
   "cell_type": "markdown",
   "id": "ca7fc503",
   "metadata": {},
   "source": [
    "Скорость сходимости у стохастического градиентного бустинга чуть хуже, чем у обычного градиентного бустинга."
   ]
  },
  {
   "cell_type": "markdown",
   "id": "384dce6c",
   "metadata": {},
   "source": [
    "# Задача 2"
   ]
  },
  {
   "cell_type": "markdown",
   "id": "9814aace",
   "metadata": {},
   "source": [
    "[*] Добавить в алгоритм градиентного спуска L1 регуляризацию. Сравнить влияние коэффициентов регуляризации L1 и L2 на величину весов для примера из урока (лучше графически)."
   ]
  },
  {
   "cell_type": "code",
   "execution_count": 13,
   "id": "07ba9a46",
   "metadata": {},
   "outputs": [],
   "source": [
    "#L1 - регуляризация\n",
    "def eval_model_reg1(X, y, iterations, eta=1e-4, lambda_=1e-8, verbose=False):\n",
    "    np.random.seed(42)\n",
    "    w = np.random.randn(X.shape[1])\n",
    "    n = X.shape[0]\n",
    "    for i in range(1, iterations + 1):\n",
    "        y_pred = np.dot(X, w)\n",
    "        err = calc_mse(y, y_pred)\n",
    "        w -= eta * (1/n * 2 * np.dot(X.T, (y_pred - y)) + lambda_ * w/abs(w))\n",
    "        if verbose and i % (iterations / 10) == 0:\n",
    "            print(f'{i}: weights={w}, MSE={err:.3f}')\n",
    "    return w"
   ]
  },
  {
   "cell_type": "code",
   "execution_count": 14,
   "id": "e67d0e53",
   "metadata": {},
   "outputs": [],
   "source": [
    "#L2 - регуляризация\n",
    "def eval_model_reg2(X, y, iterations, eta=1e-4, lambda_=1e-8, verbose=False):\n",
    "    np.random.seed(42)\n",
    "    w = np.random.randn(X.shape[1])\n",
    "    n = X.shape[0]\n",
    "    for i in range(1, iterations + 1):\n",
    "        y_pred = np.dot(X, w)\n",
    "        err = calc_mse(y, y_pred)\n",
    "        w -= eta * (1/n * 2 * np.dot(X.T, (y_pred - y)) + 2 * lambda_ * w)\n",
    "        if verbose and i % (iterations / 10) == 0:\n",
    "            print(f'{i}: weights={w}, MSE={err:.3f}')\n",
    "    return w"
   ]
  },
  {
   "cell_type": "code",
   "execution_count": 15,
   "id": "e40a1fbe",
   "metadata": {},
   "outputs": [],
   "source": [
    "X = np.array([[1, 1, 1, 1, 1, 1, 1, 1, 1, 1],\n",
    "              [1, 1, 2, 1, 3, 0, 5, 10, 1, 2],  # стаж репетитора\n",
    "              [500, 700, 750, 600, 1450,        # средняя стоимость занятия\n",
    "               800, 1500, 2000, 450, 1000],\n",
    "              [21, 25, 27, 20, 25, 18, 35, 60, 20, 30]]).T  # возраст репетитора\n",
    "               \n",
    "y = [45, 55, 50, 59, 65, 35, 75, 80, 50, 60]    # средний балл ЕГЭ (целевая переменная)"
   ]
  },
  {
   "cell_type": "code",
   "execution_count": 16,
   "id": "ffd043f2",
   "metadata": {},
   "outputs": [],
   "source": [
    "def standardization(x: np.ndarray) -> np.ndarray:\n",
    "    '''Функция принимает и возвращает одномерный массив'''\n",
    "    s = (x - x.mean()) / x.std()\n",
    "    return s"
   ]
  },
  {
   "cell_type": "code",
   "execution_count": 17,
   "id": "4353e6db",
   "metadata": {},
   "outputs": [],
   "source": [
    "X_st = X.copy().astype(np.float64)\n",
    "X_st[:, 1] = standardization(X[:, 2])\n",
    "X_st[:, 2] = standardization(X[:, 2])\n",
    "X_st[:, 3] = standardization(X[:, 3])"
   ]
  },
  {
   "cell_type": "code",
   "execution_count": 18,
   "id": "a77550da",
   "metadata": {},
   "outputs": [
    {
     "name": "stdout",
     "output_type": "stream",
     "text": [
      "100: weights=[10.73014253  1.15140285  1.92135569  2.71404271], MSE=2262.982\n",
      "200: weights=[19.1068873   1.87850048  2.64845332  3.38932984], MSE=1530.626\n",
      "300: weights=[25.9638125   2.2942191   3.06417194  3.77097985], MSE=1044.289\n",
      "400: weights=[31.57666385  2.53247567  3.30242851  3.98545024], MSE=719.276\n",
      "500: weights=[36.17115764  2.66957066  3.4395235   4.10478485], MSE=501.304\n",
      "600: weights=[39.93205774  2.74897783  3.51893067  4.17002585], MSE=354.794\n",
      "700: weights=[43.01060573  2.79546806  3.5654209   4.20455256], MSE=256.147\n",
      "800: weights=[45.53060291  2.82315629  3.59310913  4.22168117], MSE=189.622\n",
      "900: weights=[47.59338895  2.84008625  3.61003909  4.22899462], MSE=144.686\n",
      "1000: weights=[49.28191713  2.85084258  3.62079542  4.23080954], MSE=114.276\n"
     ]
    }
   ],
   "source": [
    "w = eval_model_reg1(X_st, y, iterations=1000, eta=1e-3, lambda_=1, verbose=True)"
   ]
  },
  {
   "cell_type": "code",
   "execution_count": 19,
   "id": "e7016b24",
   "metadata": {},
   "outputs": [
    {
     "name": "stdout",
     "output_type": "stream",
     "text": [
      "100: weights=[10.82085913  1.2141001   2.00005294  2.79354159], MSE=2252.372\n",
      "200: weights=[19.27186149  1.98545772  2.77141056  3.51559346], MSE=1515.928\n",
      "300: weights=[26.18957149  2.42575766  3.2117105   3.92523325], MSE=1028.590\n",
      "400: weights=[31.85217926  2.67740807  3.4633609   4.156945  ], MSE=704.034\n",
      "500: weights=[36.48740201  2.82154628  3.60749912  4.2873476 ], MSE=487.210\n",
      "600: weights=[40.28164149  2.90440096  3.6903538   4.3600917 ], MSE=342.135\n",
      "700: weights=[43.38747997  2.95231169  3.73826453  4.40004463], MSE=244.996\n",
      "800: weights=[45.92981625  2.98028635  3.76623919  4.42137212], MSE=179.929\n",
      "900: weights=[48.01088834  2.99687663  3.78282947  4.43214281], MSE=136.339\n",
      "1000: weights=[49.71438487  3.00695578  3.79290862  4.43695166], MSE=107.133\n"
     ]
    }
   ],
   "source": [
    "w = eval_model_reg2(X_st, y, iterations=1000, eta=1e-3, lambda_=0, verbose=True)"
   ]
  },
  {
   "cell_type": "code",
   "execution_count": 20,
   "id": "4bcf3103",
   "metadata": {},
   "outputs": [],
   "source": [
    "w_list = []\n",
    "l_list = []\n",
    "error_list = []\n",
    "\n",
    "for l in np.logspace(start=-3, stop=1, num=20):\n",
    "    l_list.append(l)\n",
    "    w_new = eval_model_reg1(X_st, y, iterations=1000, eta=1e-2, lambda_=l)\n",
    "    w_list.append(w_new)\n",
    "    error_list.append(calc_mse(y, np.dot(X_st, w_new)))\n",
    "weights = np.array(w_list)\n",
    "errors = np.array(error_list)\n"
   ]
  },
  {
   "cell_type": "code",
   "execution_count": 21,
   "id": "43d6794e",
   "metadata": {},
   "outputs": [],
   "source": [
    "w_list = []\n",
    "l_list = []\n",
    "error_list = []\n",
    "\n",
    "for l in np.logspace(start=-3, stop=1, num=20):\n",
    "    l_list.append(l)\n",
    "    w_new = eval_model_reg2(X_st, y, iterations=1000, eta=1e-2, lambda_=l)\n",
    "    w_list.append(w_new)\n",
    "    error_list.append(calc_mse(y, np.dot(X_st, w_new)))\n",
    "weights2 = np.array(w_list)\n",
    "errors2 = np.array(error_list)\n"
   ]
  },
  {
   "cell_type": "code",
   "execution_count": 22,
   "id": "cb483473",
   "metadata": {},
   "outputs": [
    {
     "data": {
      "image/png": "[encoded data removed]",
      "text/plain": [
       "<Figure size 1080x360 with 2 Axes>"
      ]
     },
     "metadata": {
      "needs_background": "light"
     },
     "output_type": "display_data"
    }
   ],
   "source": [
    "plt.figure(figsize=(15, 5))\n",
    "\n",
    "#plt.plot(l_list, weights[:, 0], 'mo-', label=r'$w_0$')\n",
    "plt.subplot(1, 2, 1)\n",
    "plt.xscale('log')\n",
    "plt.plot(l_list, weights[:, 1], 'go-', label=r'$w_1$')\n",
    "plt.plot(l_list, weights[:, 2], 'ro-', label=r'$w_2$')\n",
    "plt.plot(l_list, weights[:, 3], 'bo-', label=r'$w_3$')\n",
    "plt.xlabel('Коэффициент L1 регуляризации')\n",
    "plt.ylabel('Веса')\n",
    "plt.ylim([2,4.5])\n",
    "plt.grid()\n",
    "plt.legend();\n",
    "\n",
    "plt.subplot(1, 2, 2)\n",
    "plt.xscale('log')\n",
    "plt.plot(l_list, weights2[:, 1], 'go-', label=r'$w_1$')\n",
    "plt.plot(l_list, weights2[:, 2], 'ro-', label=r'$w_2$')\n",
    "plt.plot(l_list, weights2[:, 3], 'bo-', label=r'$w_3$')\n",
    "plt.xlabel('Коэффициент L2 регуляризации')\n",
    "plt.ylabel('Веса')\n",
    "plt.ylim([2,4.5])\n",
    "plt.grid()\n",
    "plt.legend();\n"
   ]
  },
  {
   "cell_type": "markdown",
   "id": "5976248f",
   "metadata": {},
   "source": [
    "L2 регуляризация с увеличением своего значения, оказывает большее влияние на величину весов, чем L1."
   ]
  },
  {
   "cell_type": "code",
   "execution_count": null,
   "id": "9c31b39a",
   "metadata": {},
   "outputs": [],
   "source": []
  }
 ],
 "metadata": {
  "kernelspec": {
   "display_name": "Python 3",
   "language": "python",
   "name": "python3"
  },
  "language_info": {
   "codemirror_mode": {
    "name": "ipython",
    "version": 3
   },
   "file_extension": ".py",
   "mimetype": "text/x-python",
   "name": "python",
   "nbconvert_exporter": "python",
   "pygments_lexer": "ipython3",
   "version": "3.8.8"
  }
 },
 "nbformat": 4,
 "nbformat_minor": 5
}
