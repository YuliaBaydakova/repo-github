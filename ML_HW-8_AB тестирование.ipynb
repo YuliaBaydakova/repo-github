{
 "cells": [
  {
   "cell_type": "markdown",
   "id": "973003e6",
   "metadata": {},
   "source": [
    "# Домашнее задание"
   ]
  },
  {
   "cell_type": "markdown",
   "id": "4ef11a6f",
   "metadata": {},
   "source": [
    "Взять датасет из google диска: https://drive.google.com/file/d/101fYypHh0u56KC5Lq2ywOCOdnh7WPho2/view?usp=sharing. Проверить гипотезу о том, в каком варианте теста (control/personalization) больше конверсия (converted) и значимо ли это отличие статистически."
   ]
  },
  {
   "cell_type": "markdown",
   "id": "8e5ba72e",
   "metadata": {},
   "source": [
    "Загрузим данные"
   ]
  },
  {
   "cell_type": "code",
   "execution_count": 6,
   "id": "e08f1025",
   "metadata": {},
   "outputs": [],
   "source": [
    "import pandas as pd"
   ]
  },
  {
   "cell_type": "code",
   "execution_count": 7,
   "id": "15038504",
   "metadata": {},
   "outputs": [
    {
     "data": {
      "text/html": [
       "<div>\n",
       "<style scoped>\n",
       "    .dataframe tbody tr th:only-of-type {\n",
       "        vertical-align: middle;\n",
       "    }\n",
       "\n",
       "    .dataframe tbody tr th {\n",
       "        vertical-align: top;\n",
       "    }\n",
       "\n",
       "    .dataframe thead th {\n",
       "        text-align: right;\n",
       "    }\n",
       "</style>\n",
       "<table border=\"1\" class=\"dataframe\">\n",
       "  <thead>\n",
       "    <tr style=\"text-align: right;\">\n",
       "      <th></th>\n",
       "      <th>user_id</th>\n",
       "      <th>date_served</th>\n",
       "      <th>marketing_channel</th>\n",
       "      <th>variant</th>\n",
       "      <th>language_displayed</th>\n",
       "      <th>converted</th>\n",
       "    </tr>\n",
       "  </thead>\n",
       "  <tbody>\n",
       "    <tr>\n",
       "      <th>0</th>\n",
       "      <td>a1000</td>\n",
       "      <td>1/1/18</td>\n",
       "      <td>House Ads</td>\n",
       "      <td>personalization</td>\n",
       "      <td>English</td>\n",
       "      <td>True</td>\n",
       "    </tr>\n",
       "    <tr>\n",
       "      <th>1</th>\n",
       "      <td>a1001</td>\n",
       "      <td>1/1/18</td>\n",
       "      <td>House Ads</td>\n",
       "      <td>personalization</td>\n",
       "      <td>English</td>\n",
       "      <td>True</td>\n",
       "    </tr>\n",
       "    <tr>\n",
       "      <th>2</th>\n",
       "      <td>a1002</td>\n",
       "      <td>1/1/18</td>\n",
       "      <td>House Ads</td>\n",
       "      <td>personalization</td>\n",
       "      <td>English</td>\n",
       "      <td>True</td>\n",
       "    </tr>\n",
       "  </tbody>\n",
       "</table>\n",
       "</div>"
      ],
      "text/plain": [
       "  user_id date_served marketing_channel          variant language_displayed  \\\n",
       "0   a1000      1/1/18         House Ads  personalization            English   \n",
       "1   a1001      1/1/18         House Ads  personalization            English   \n",
       "2   a1002      1/1/18         House Ads  personalization            English   \n",
       "\n",
       "  converted  \n",
       "0      True  \n",
       "1      True  \n",
       "2      True  "
      ]
     },
     "execution_count": 7,
     "metadata": {},
     "output_type": "execute_result"
    }
   ],
   "source": [
    "data = pd.read_csv(\"data/marketing_campaign.csv\")\n",
    "data.head(3)"
   ]
  },
  {
   "cell_type": "code",
   "execution_count": 8,
   "id": "dfb785d4",
   "metadata": {},
   "outputs": [
    {
     "data": {
      "text/plain": [
       "count       10037\n",
       "unique          2\n",
       "top       control\n",
       "freq         5091\n",
       "Name: variant, dtype: object"
      ]
     },
     "execution_count": 8,
     "metadata": {},
     "output_type": "execute_result"
    }
   ],
   "source": [
    "data['variant'].describe()"
   ]
  },
  {
   "cell_type": "code",
   "execution_count": 17,
   "id": "5a1280af",
   "metadata": {},
   "outputs": [
    {
     "data": {
      "text/plain": [
       "10032    1.0\n",
       "10033    1.0\n",
       "10034    0.0\n",
       "10035    1.0\n",
       "10036    0.0\n",
       "Name: converted, dtype: float64"
      ]
     },
     "execution_count": 17,
     "metadata": {},
     "output_type": "execute_result"
    }
   ],
   "source": [
    "data ['converted'] = data['converted'].replace([True, False],[1,0])\n",
    "data['converted'].tail(5)"
   ]
  },
  {
   "cell_type": "code",
   "execution_count": 20,
   "id": "229576f3",
   "metadata": {},
   "outputs": [
    {
     "data": {
      "text/plain": [
       "variant          converted\n",
       "control          0.0          4705\n",
       "                 1.0           371\n",
       "personalization  0.0          4241\n",
       "                 1.0           705\n",
       "Name: converted, dtype: int64"
      ]
     },
     "execution_count": 20,
     "metadata": {},
     "output_type": "execute_result"
    }
   ],
   "source": [
    "#посчитаем конверсию по каждой группе\n",
    "data['converted'].groupby(data['variant']).value_counts()"
   ]
  },
  {
   "cell_type": "markdown",
   "id": "3abaf0f9",
   "metadata": {},
   "source": [
    "Формулируем гипотезы:\n",
    "- \"нулевая\" (H0) - наблюдаемые различия незначимы\n",
    "- \"альтернативная\" (H1) - различия значимы"
   ]
  },
  {
   "cell_type": "markdown",
   "id": "04560495",
   "metadata": {},
   "source": [
    "Так как метрика у нас доля (конверсия) - то в качестве критерия берем z-критерий, уровень значимости 0.05."
   ]
  },
  {
   "cell_type": "code",
   "execution_count": 22,
   "id": "38fb545c",
   "metadata": {},
   "outputs": [
    {
     "data": {
      "text/plain": [
       "(371.0, 705.0, 5091, 4946)"
      ]
     },
     "execution_count": 22,
     "metadata": {},
     "output_type": "execute_result"
    }
   ],
   "source": [
    "import numpy as np\n",
    "\n",
    "\n",
    "z_crit_value = 1.96 #соответствует доверительному интервалу в 95%\n",
    "k1, n1 = data[data['variant']=='control']['converted'].sum(), data[data['variant']=='control'].shape[0]\n",
    "k2, n2 = data[data['variant']=='personalization']['converted'].sum(), data[data['variant']=='personalization'].shape[0]\n",
    "k1, k2, n1, n2"
   ]
  },
  {
   "cell_type": "markdown",
   "id": "7223da61",
   "metadata": {},
   "source": [
    "Посчитаем выборочные p1, p2:"
   ]
  },
  {
   "cell_type": "code",
   "execution_count": 23,
   "id": "c365415a",
   "metadata": {},
   "outputs": [
    {
     "data": {
      "text/plain": [
       "(0.07287369868395208, 0.14253942579862516)"
      ]
     },
     "execution_count": 23,
     "metadata": {},
     "output_type": "execute_result"
    }
   ],
   "source": [
    "p1, p2 = k1/n1, k2/n2\n",
    "p1, p2"
   ]
  },
  {
   "cell_type": "code",
   "execution_count": 24,
   "id": "f571110c",
   "metadata": {},
   "outputs": [
    {
     "data": {
      "text/plain": [
       "-11.278864170859038"
      ]
     },
     "execution_count": 24,
     "metadata": {},
     "output_type": "execute_result"
    }
   ],
   "source": [
    "P = (p1*n1+p2*n2)/(n1+n2)\n",
    "z = (p1-p2)/(P*(1-P)*(1/n1+1/n2))**(1/2)\n",
    "z"
   ]
  },
  {
   "cell_type": "code",
   "execution_count": 25,
   "id": "bd3ed08d",
   "metadata": {},
   "outputs": [
    {
     "name": "stdout",
     "output_type": "stream",
     "text": [
      "Мы можем отвергнуть нулевую гипотезу!\n"
     ]
    }
   ],
   "source": [
    "if abs(z) > z_crit_value:\n",
    "    print(\"Мы можем отвергнуть нулевую гипотезу!\")\n",
    "else:\n",
    "    print(\"Нам не удалось отвергнуть нулевую гипотезу!\")"
   ]
  },
  {
   "cell_type": "code",
   "execution_count": 27,
   "id": "a3ef9b79",
   "metadata": {},
   "outputs": [
    {
     "name": "stdout",
     "output_type": "stream",
     "text": [
      "Результаты z_score=-11.279 pvalue=0.000\n"
     ]
    }
   ],
   "source": [
    "from statsmodels.stats import proportion\n",
    "\n",
    "z_score, z_pvalue = proportion.proportions_ztest(np.array([k1, k2]), \n",
    "                                                 np.array([n1, n2]))\n",
    "\n",
    "print(f'Результаты z_score={z_score:.3f} pvalue={z_pvalue:.3f}')"
   ]
  },
  {
   "cell_type": "markdown",
   "id": "e337a89e",
   "metadata": {},
   "source": [
    "Значение pvalue < 0.05, значит мы отвергаем нулевую гипотезу, следовательно различия выборок статистически значимы."
   ]
  },
  {
   "cell_type": "code",
   "execution_count": 30,
   "id": "2d7eaa6f",
   "metadata": {},
   "outputs": [
    {
     "data": {
      "text/html": [
       "<div>\n",
       "<style scoped>\n",
       "    .dataframe tbody tr th:only-of-type {\n",
       "        vertical-align: middle;\n",
       "    }\n",
       "\n",
       "    .dataframe tbody tr th {\n",
       "        vertical-align: top;\n",
       "    }\n",
       "\n",
       "    .dataframe thead tr th {\n",
       "        text-align: left;\n",
       "    }\n",
       "\n",
       "    .dataframe thead tr:last-of-type th {\n",
       "        text-align: right;\n",
       "    }\n",
       "</style>\n",
       "<table border=\"1\" class=\"dataframe\">\n",
       "  <thead>\n",
       "    <tr>\n",
       "      <th></th>\n",
       "      <th>sum</th>\n",
       "      <th>count</th>\n",
       "    </tr>\n",
       "    <tr>\n",
       "      <th></th>\n",
       "      <th>converted</th>\n",
       "      <th>converted</th>\n",
       "    </tr>\n",
       "    <tr>\n",
       "      <th>variant</th>\n",
       "      <th></th>\n",
       "      <th></th>\n",
       "    </tr>\n",
       "  </thead>\n",
       "  <tbody>\n",
       "    <tr>\n",
       "      <th>control</th>\n",
       "      <td>371.0</td>\n",
       "      <td>5076</td>\n",
       "    </tr>\n",
       "    <tr>\n",
       "      <th>personalization</th>\n",
       "      <td>705.0</td>\n",
       "      <td>4946</td>\n",
       "    </tr>\n",
       "  </tbody>\n",
       "</table>\n",
       "</div>"
      ],
      "text/plain": [
       "                      sum     count\n",
       "                converted converted\n",
       "variant                            \n",
       "control             371.0      5076\n",
       "personalization     705.0      4946"
      ]
     },
     "execution_count": 30,
     "metadata": {},
     "output_type": "execute_result"
    }
   ],
   "source": [
    "grouped = data.pivot_table(values='converted', index='variant', aggfunc=['sum', 'count'])\n",
    "grouped"
   ]
  },
  {
   "cell_type": "code",
   "execution_count": 33,
   "id": "40e73c5f",
   "metadata": {},
   "outputs": [
    {
     "data": {
      "image/png": "[encoded data removed]",
      "text/plain": [
       "<Figure size 576x432 with 1 Axes>"
      ]
     },
     "metadata": {
      "needs_background": "light"
     },
     "output_type": "display_data"
    }
   ],
   "source": [
    "import matplotlib.pyplot as plt\n",
    "\n",
    "plt.figure(figsize=(8, 6))\n",
    "plt.bar([1, 2], grouped['count']['converted'], label='пользователи')\n",
    "plt.bar([1, 2], grouped['sum']['converted'], bottom=grouped['count']['converted'], label='конверсий')\n",
    "plt.xticks([1, 2], ['control', 'personalization'])\n",
    "plt.legend();"
   ]
  },
  {
   "cell_type": "markdown",
   "id": "9b76e1f2",
   "metadata": {},
   "source": [
    "Визуально разница выборок также заметна. Определим непараметрический критерий Хи-квадрат."
   ]
  },
  {
   "cell_type": "code",
   "execution_count": 34,
   "id": "9657c918",
   "metadata": {},
   "outputs": [
    {
     "name": "stdout",
     "output_type": "stream",
     "text": [
      "Results are chisq=127.213 pvalue=0.000\n"
     ]
    }
   ],
   "source": [
    "chisq, pvalue, table = proportion.proportions_chisquare(np.array([k1, k2]), \n",
    "                                                        np.array([n1, n2]))\n",
    "\n",
    "print(f'Results are chisq={chisq:.3f} pvalue={pvalue:.3f}')"
   ]
  },
  {
   "cell_type": "markdown",
   "id": "1980d1b2",
   "metadata": {},
   "source": [
    "Результат теста с критерием Хи-квадрат также отвергает нулевую гипотезу, следовательно различия  выборок статистически значимы, принимаем \"альтернативную\" гипотезу."
   ]
  },
  {
   "cell_type": "markdown",
   "id": "3623ca1e",
   "metadata": {},
   "source": [
    "#### 1. Если мы рассчитали 95% доверительный интервал для среднего значения, то какие из следующих утверждений являются верными?\n",
    "\n",
    "Выберите несколько вариантов и попытайтесь объяснить свой выбор:\n",
    "\n",
    "1) Если многократно повторять эксперимент, то 95 % выборочных средних значений будут принадлежать рассчитанному нами доверительному интервалу.\n",
    "\n",
    "2) Мы можем быть на 95% уверены, что среднее значение в генеральной совокупности принадлежит рассчитанному доверительному интервалу.\n",
    "\n",
    "3) Если многократно повторять эксперимент, для каждой выборки рассчитывать свой доверительный интервал, то в 95 % случаев истинное среднее будет находиться внутри доверительного интервала.\n",
    "\n",
    "4) Среднее значение в генеральной совокупности точно превышает нижнюю границу 95% доверительного интервала.\n",
    "\n",
    "5) Среднее значение в генеральной совокупности точно принадлежит рассчитанному доверительному интервалу.\n",
    "\n",
    "\n",
    "\n",
    "#### 2. Если мы увеличиваем объем выборки в два раза (при условии, что показатель стандартного отклонения остается неизменным), то 95% доверительный интервал\n",
    "\n",
    "Выберите один вариант из списка\n",
    "\n",
    "1) стал более узким\n",
    "2) возможны оба варианта\n",
    "3) стал более широким\n",
    "\n",
    "#### 3. В центре 95% доверительного интервала, рассчитанного по выборочным значениям, находится:\n",
    "\n",
    "Выберите один вариант из списка\n",
    "\n",
    "1) Значение стандартной ошибки среднего\n",
    "2) Выборочное среднее значение\n",
    "3) Среднее значение генеральной совокупности\n",
    "\n",
    "#### 4. Часто на практике нулевая гипотеза отклоняется, и различия считаются статистически достоверными, если p < 0,05. Однако часто в статистике используется более жесткий критерий достоверности различий, например, при условии, что p < 0,01. Значение p-уровня значимости, которое выбирается, в качестве порога обозначается буквой α (альфа). Например, если исследователь решил, что α = 0,05, то и нулевая гипотеза будет отклоняться при условии, что p < 0,05. \n",
    "\n",
    "#### Если в определенной ситуации весьма рискованно отклонить нулевую гипотезу, когда она на самом деле верна, то лучше использовать показатель α равный \n",
    "\n",
    "Выберите один вариант из списка\n",
    "\n",
    "1) 0,1\n",
    "2) 0,001\n",
    "3) 0,05\n",
    "4) 0,5\n",
    "\n",
    "#### 5. Данные некоторого исследования сообщают нам, что средний рост детей в 14 лет составляет 166 сантиметров. Однако это лишь выборочная оценка, и исследователи рассчитали 95% доверительный интервал, который составил [160, 172]. Укажите верные утверждения:\n",
    "\n",
    "Выберите несколько вариантов и попытайтесь объяснить свой выбор:\n",
    "\n",
    "1) У нас достаточно оснований отклонить нулевую гипотезу, что среднее в генеральной совокупности равняется 173\n",
    "2) Вероятность того, что истинное среднее значение больше 172, составляет 0,01\n",
    "3) У нас достаточно оснований отклонить нулевую гипотезу, что среднее в генеральной совокупности равняется 158.\n",
    "4) Доверительный интервал не может иметь такие границы, т. к. выборочное стандартное отклонение равняется 10, следовательно доверительный интервал должен быть значительно шире.\n",
    "\n",
    "#### 6. Предположим, нулевой гипотезой вашего исследования являлось предположение, что конверсия в генеральной совокупности равняется 0.4. Вы получили p = 0,12 и не смогли отклонить нулевую гипотезу. Однако позже выяснилось, что конверсия в генеральной совокупности действиетльно равна 0.4. Как можно оценить результаты?\n",
    "\n",
    "\n",
    "Какой вариант корректный по вашему мнению и почему?\n",
    "1) Вы не совершали ни ошибку первого рода, ни ошибку второго рода.\n",
    "2) Вы совершили ошибку первого рода\n",
    "3) Вы совершили ошибку второго рода"
   ]
  },
  {
   "cell_type": "markdown",
   "id": "6b1f5b60",
   "metadata": {},
   "source": [
    "### Ответы:\n",
    "### вопрос 1: \n",
    "2, 3 обусловлено свойствами нормального распределения и центральной предельной теоремой\n",
    "### вопрос 2: \n",
    "1 исходя из формулы определеления доверительного интервала (делим на квадратный корень из количества элементов в выборке)\n",
    "### вопрос 3: \n",
    "2 \n",
    "### вопрос 4: \n",
    "2 (0,001), так как расширяется область принятия нулевой гипотезы\n",
    "### вопрос 5: \n",
    "1 и 3, так как указанные значения находятся вне доверительного интервала\n",
    "### вопрос 6: \n",
    "1, так как ошибка первого рода (α-ошибка, ложноположительное заключение) — ситуация, когда отвергнута верная нулевая гипотеза, а ошибка второго рода (β-ошибка, ложноотрицательное заключение) — ситуация, когда принята неверная нулевая гипотеза. ."
   ]
  },
  {
   "cell_type": "code",
   "execution_count": null,
   "id": "56ee1469",
   "metadata": {},
   "outputs": [],
   "source": []
  }
 ],
 "metadata": {
  "kernelspec": {
   "display_name": "Python 3 (ipykernel)",
   "language": "python",
   "name": "python3"
  },
  "language_info": {
   "codemirror_mode": {
    "name": "ipython",
    "version": 3
   },
   "file_extension": ".py",
   "mimetype": "text/x-python",
   "name": "python",
   "nbconvert_exporter": "python",
   "pygments_lexer": "ipython3",
   "version": "3.9.4"
  }
 },
 "nbformat": 4,
 "nbformat_minor": 5
}
